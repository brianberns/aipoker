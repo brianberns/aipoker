{
 "cells": [
  {
   "cell_type": "code",
   "execution_count": 34,
   "metadata": {},
   "outputs": [
    {
     "name": "stdout",
     "output_type": "stream",
     "text": [
      "=================\n",
      "Starting new game\n",
      "=================\n",
      "Player 0 profit: 0\n",
      "Player 1 profit: 0\n",
      "\n",
      "Player 0 card: 1\n",
      "Player 1 card: 3\n",
      "\n",
      " \n",
      "\n",
      "Pot size: 2\n",
      "Player 0 turn to act\n",
      "Betting options\n",
      "CHECK: k\n",
      "BET 2: b\n"
     ]
    },
    {
     "ename": "NameError",
     "evalue": "name 'betinput' is not defined",
     "output_type": "error",
     "traceback": [
      "\u001b[0;31m-------------------------------------------------------------------------\u001b[0m",
      "\u001b[0;31mNameError\u001b[0m                               Traceback (most recent call last)",
      "\u001b[0;32m<ipython-input-34-95be808b6d17>\u001b[0m in \u001b[0;36m<module>\u001b[0;34m\u001b[0m\n\u001b[1;32m    144\u001b[0m     \u001b[0mplaypreflop\u001b[0m\u001b[0;34m(\u001b[0m\u001b[0mp0card\u001b[0m\u001b[0;34m,\u001b[0m\u001b[0mp1card\u001b[0m\u001b[0;34m,\u001b[0m\u001b[0mflopcard\u001b[0m\u001b[0;34m,\u001b[0m\u001b[0;34m''\u001b[0m\u001b[0;34m,\u001b[0m\u001b[0;34m''\u001b[0m\u001b[0;34m,\u001b[0m\u001b[0mdealer\u001b[0m\u001b[0;34m,\u001b[0m\u001b[0mprofit0\u001b[0m\u001b[0;34m)\u001b[0m \u001b[0;31m#each player puts 1 into the pot automatically\u001b[0m\u001b[0;34m\u001b[0m\u001b[0;34m\u001b[0m\u001b[0m\n\u001b[1;32m    145\u001b[0m \u001b[0;34m\u001b[0m\u001b[0m\n\u001b[0;32m--> 146\u001b[0;31m \u001b[0mmain\u001b[0m\u001b[0;34m(\u001b[0m\u001b[0;36m0\u001b[0m\u001b[0;34m,\u001b[0m\u001b[0;36m0\u001b[0m\u001b[0;34m)\u001b[0m \u001b[0;31m#define dealer as p0 or p1 (dealer is the term for the player who acts first)\u001b[0m\u001b[0;34m\u001b[0m\u001b[0;34m\u001b[0m\u001b[0m\n\u001b[0m",
      "\u001b[0;32m<ipython-input-34-95be808b6d17>\u001b[0m in \u001b[0;36mmain\u001b[0;34m(dealer, profit0)\u001b[0m\n\u001b[1;32m    142\u001b[0m     \u001b[0mprint\u001b[0m\u001b[0;34m(\u001b[0m\u001b[0;34m'Player 1 card: {}'\u001b[0m\u001b[0;34m.\u001b[0m\u001b[0mformat\u001b[0m\u001b[0;34m(\u001b[0m\u001b[0mp1card\u001b[0m\u001b[0;34m)\u001b[0m\u001b[0;34m)\u001b[0m\u001b[0;34m\u001b[0m\u001b[0;34m\u001b[0m\u001b[0m\n\u001b[1;32m    143\u001b[0m     \u001b[0mprint\u001b[0m \u001b[0;34m(\u001b[0m\u001b[0;34m''\u001b[0m\u001b[0;34m)\u001b[0m\u001b[0;34m\u001b[0m\u001b[0;34m\u001b[0m\u001b[0m\n\u001b[0;32m--> 144\u001b[0;31m     \u001b[0mplaypreflop\u001b[0m\u001b[0;34m(\u001b[0m\u001b[0mp0card\u001b[0m\u001b[0;34m,\u001b[0m\u001b[0mp1card\u001b[0m\u001b[0;34m,\u001b[0m\u001b[0mflopcard\u001b[0m\u001b[0;34m,\u001b[0m\u001b[0;34m''\u001b[0m\u001b[0;34m,\u001b[0m\u001b[0;34m''\u001b[0m\u001b[0;34m,\u001b[0m\u001b[0mdealer\u001b[0m\u001b[0;34m,\u001b[0m\u001b[0mprofit0\u001b[0m\u001b[0;34m)\u001b[0m \u001b[0;31m#each player puts 1 into the pot automatically\u001b[0m\u001b[0;34m\u001b[0m\u001b[0;34m\u001b[0m\u001b[0m\n\u001b[0m\u001b[1;32m    145\u001b[0m \u001b[0;34m\u001b[0m\u001b[0m\n\u001b[1;32m    146\u001b[0m \u001b[0mmain\u001b[0m\u001b[0;34m(\u001b[0m\u001b[0;36m0\u001b[0m\u001b[0;34m,\u001b[0m\u001b[0;36m0\u001b[0m\u001b[0;34m)\u001b[0m \u001b[0;31m#define dealer as p0 or p1 (dealer is the term for the player who acts first)\u001b[0m\u001b[0;34m\u001b[0m\u001b[0;34m\u001b[0m\u001b[0m\n",
      "\u001b[0;32m<ipython-input-34-95be808b6d17>\u001b[0m in \u001b[0;36mplaypreflop\u001b[0;34m(p0card, p1card, flopcard, r1history, r2history, dealer, profit0)\u001b[0m\n\u001b[1;32m     71\u001b[0m     \u001b[0mprint\u001b[0m\u001b[0;34m(\u001b[0m\u001b[0;34m'\\nPot size: {}'\u001b[0m\u001b[0;34m.\u001b[0m\u001b[0mformat\u001b[0m\u001b[0;34m(\u001b[0m\u001b[0mpot\u001b[0m\u001b[0;34m)\u001b[0m\u001b[0;34m)\u001b[0m\u001b[0;34m\u001b[0m\u001b[0;34m\u001b[0m\u001b[0m\n\u001b[1;32m     72\u001b[0m     \u001b[0mprint\u001b[0m\u001b[0;34m(\u001b[0m\u001b[0;34m'Player {} turn to act'\u001b[0m\u001b[0;34m.\u001b[0m\u001b[0mformat\u001b[0m\u001b[0;34m(\u001b[0m\u001b[0mactingplayer\u001b[0m\u001b[0;34m)\u001b[0m\u001b[0;34m)\u001b[0m\u001b[0;34m\u001b[0m\u001b[0;34m\u001b[0m\u001b[0m\n\u001b[0;32m---> 73\u001b[0;31m     \u001b[0mbet\u001b[0m \u001b[0;34m=\u001b[0m \u001b[0mvalidbets\u001b[0m\u001b[0;34m(\u001b[0m\u001b[0mr1history\u001b[0m\u001b[0;34m,\u001b[0m\u001b[0mr2history\u001b[0m\u001b[0;34m,\u001b[0m\u001b[0;36m1\u001b[0m\u001b[0;34m)\u001b[0m\u001b[0;34m\u001b[0m\u001b[0;34m\u001b[0m\u001b[0m\n\u001b[0m\u001b[1;32m     74\u001b[0m     \u001b[0mplaypreflop\u001b[0m\u001b[0;34m(\u001b[0m\u001b[0mp0card\u001b[0m\u001b[0;34m,\u001b[0m\u001b[0mp1card\u001b[0m\u001b[0;34m,\u001b[0m\u001b[0mflopcard\u001b[0m\u001b[0;34m,\u001b[0m\u001b[0mr1history\u001b[0m\u001b[0;34m+\u001b[0m\u001b[0mbet\u001b[0m\u001b[0;34m,\u001b[0m\u001b[0mr2history\u001b[0m\u001b[0;34m,\u001b[0m\u001b[0mdealer\u001b[0m\u001b[0;34m,\u001b[0m\u001b[0mprofit0\u001b[0m\u001b[0;34m)\u001b[0m\u001b[0;34m\u001b[0m\u001b[0;34m\u001b[0m\u001b[0m\n\u001b[1;32m     75\u001b[0m \u001b[0;34m\u001b[0m\u001b[0m\n",
      "\u001b[0;32m<ipython-input-34-95be808b6d17>\u001b[0m in \u001b[0;36mvalidbets\u001b[0;34m(r1history, r2history, rnd)\u001b[0m\n\u001b[1;32m     32\u001b[0m         \u001b[0mbetoptions\u001b[0m\u001b[0;34m[\u001b[0m\u001b[0;36m2\u001b[0m\u001b[0;34m]\u001b[0m \u001b[0;34m=\u001b[0m \u001b[0;32mFalse\u001b[0m \u001b[0;31m#Call invalid -- Can only call after a bet or a raise\u001b[0m\u001b[0;34m\u001b[0m\u001b[0;34m\u001b[0m\u001b[0m\n\u001b[1;32m     33\u001b[0m \u001b[0;34m\u001b[0m\u001b[0m\n\u001b[0;32m---> 34\u001b[0;31m     \u001b[0;32mreturn\u001b[0m \u001b[0mmakebet\u001b[0m\u001b[0;34m(\u001b[0m\u001b[0mbetoptions\u001b[0m\u001b[0;34m,\u001b[0m\u001b[0mbet\u001b[0m\u001b[0;34m)\u001b[0m\u001b[0;34m\u001b[0m\u001b[0;34m\u001b[0m\u001b[0m\n\u001b[0m\u001b[1;32m     35\u001b[0m \u001b[0;34m\u001b[0m\u001b[0m\n\u001b[1;32m     36\u001b[0m \u001b[0;32mdef\u001b[0m \u001b[0mmakebet\u001b[0m\u001b[0;34m(\u001b[0m\u001b[0mbetoptions\u001b[0m\u001b[0;34m,\u001b[0m\u001b[0mbet\u001b[0m\u001b[0;34m)\u001b[0m\u001b[0;34m:\u001b[0m\u001b[0;34m\u001b[0m\u001b[0;34m\u001b[0m\u001b[0m\n",
      "\u001b[0;32m<ipython-input-34-95be808b6d17>\u001b[0m in \u001b[0;36mmakebet\u001b[0;34m(betoptions, bet)\u001b[0m\n\u001b[1;32m     42\u001b[0m     \u001b[0;32mif\u001b[0m \u001b[0mbetoptions\u001b[0m\u001b[0;34m[\u001b[0m\u001b[0;36m4\u001b[0m\u001b[0;34m]\u001b[0m\u001b[0;34m:\u001b[0m \u001b[0mprint\u001b[0m\u001b[0;34m(\u001b[0m\u001b[0;34m'RAISE {}: r'\u001b[0m\u001b[0;34m.\u001b[0m\u001b[0mformat\u001b[0m\u001b[0;34m(\u001b[0m\u001b[0mbet\u001b[0m\u001b[0;34m*\u001b[0m\u001b[0;36m2\u001b[0m\u001b[0;34m)\u001b[0m\u001b[0;34m)\u001b[0m\u001b[0;34m\u001b[0m\u001b[0;34m\u001b[0m\u001b[0m\n\u001b[1;32m     43\u001b[0m \u001b[0;34m\u001b[0m\u001b[0m\n\u001b[0;32m---> 44\u001b[0;31m     \u001b[0;32mif\u001b[0m \u001b[0mbetinput\u001b[0m \u001b[0;32min\u001b[0m \u001b[0mbetoptions\u001b[0m\u001b[0;34m:\u001b[0m\u001b[0;34m\u001b[0m\u001b[0;34m\u001b[0m\u001b[0m\n\u001b[0m\u001b[1;32m     45\u001b[0m         \u001b[0;32mreturn\u001b[0m \u001b[0mbetinput\u001b[0m\u001b[0;34m\u001b[0m\u001b[0;34m\u001b[0m\u001b[0m\n\u001b[1;32m     46\u001b[0m     \u001b[0;32melse\u001b[0m\u001b[0;34m:\u001b[0m\u001b[0;34m\u001b[0m\u001b[0;34m\u001b[0m\u001b[0m\n",
      "\u001b[0;31mNameError\u001b[0m: name 'betinput' is not defined"
     ]
    }
   ],
   "source": [
    "import random\n",
    "import numpy as np\n",
    "#Leduc Hold'em is a simplified poker game in which each player gets 1 card\n",
    "#Each player automatically puts 1 chip into the pot to begin the hand\n",
    "#This is followed by the first round (called preflop) of betting\n",
    "#In this round the bet size is 2 and there is a maximum of 2 bets\n",
    "#If neither player folds, the hand goes on to the second round (the flop)\n",
    "#In this round the bet size is 4 and again there is a maximum of 2 bets\n",
    "#If neither player folds, the pot is given to the best hand\n",
    "#The best hand is either a pair if the community card matches a player's private card\n",
    "#Or simply the highest private card if neither player matches the community card\n",
    "\n",
    "def validbets(r1history,r2history,rnd):\n",
    "    history = [r1history, r2history]\n",
    "    if rnd == 1:\n",
    "        bet = 2\n",
    "    else:\n",
    "        bet = 4\n",
    "    \n",
    "    f,k,c,b,r = True, True, True, True, True #default all to valid\n",
    "    betoptions = [f,k,c,b,r] #fold check call bet raise\n",
    "    \n",
    "    if history[rnd-1][-1:] == 'b' or history[rnd-1][-1:] == 'r':\n",
    "        betoptions[3] = False #Bet invalid -- Can only bet at the start of a round or after a check\n",
    "        betoptions[1] = False #Check invalid -- Can only check at the start of a round or after a check\n",
    "        \n",
    "    if history[rnd-1][-1:] != 'b':\n",
    "        betoptions[4] = False #Raise invalid -- Can only raise after a bet (and only one raise per round)\n",
    "        \n",
    "    if history[rnd-1][-1:] == 'k' or history[rnd-1][-1:] == '':\n",
    "        betoptions[0] = False #Fold invalid -- Can only fold after a bet or a raise\n",
    "        betoptions[2] = False #Call invalid -- Can only call after a bet or a raise\n",
    "        \n",
    "    return makebet(betoptions,bet)\n",
    "    \n",
    "def makebet(betoptions,bet):\n",
    "    print('Betting options')\n",
    "    if betoptions[0]: print('FOLD: f')\n",
    "    if betoptions[1]: print('CHECK: k')\n",
    "    if betoptions[2]: print('CALL {}: c'.format(bet))\n",
    "    if betoptions[3]: print('BET {}: b'.format(bet))\n",
    "    if betoptions[4]: print('RAISE {}: r'.format(bet*2))\n",
    "\n",
    "    if betinput in betoptions:\n",
    "        return betinput\n",
    "    else:\n",
    "        print('Invalid bet made, try again')\n",
    "        betnow(betoptions)\n",
    "\n",
    "def playpreflop(p0card,p1card,flopcard,r1history,r2history,dealer,profit0):\n",
    "    #bet size is fixed = 2 for this round\n",
    "    print(r1history, r2history)\n",
    "    plays = len(r1history)\n",
    "    actingplayer = (plays+dealer) % 2 #players are either player0 or player1\n",
    "    opponentplayer = 1 - actingplayer\n",
    "    pot = 2+ 2*r1history.count('b')+2*r1history.count('c')+4*r1history.count('r')\n",
    "\n",
    "    if r1history[-1:] == 'f': #game over, last player folded\n",
    "        profit = (pot - 2)/2 #subtract uncalled bet of 2 and divide by 2 (since profit is opponent's half)\n",
    "        if activeplayer == 0:\n",
    "            profit0 +=profit\n",
    "        else:\n",
    "            profit0 -=profit\n",
    "        print('End of game! Player {} wins pot of {} (profits {})\\n'.format(activeplayer,pot,profit))\n",
    "        main(1-dealer,profit0)\n",
    "    \n",
    "    if r1history[-2:] == 'kk' or r1history[-2:] == 'bc' or r1history[-2:] == 'rc': #2 checks in a row or a bet/raise and a call\n",
    "        print('\\nDealing flop card: {}'.format(flopcard))\n",
    "        playflop(p0card,p1card,flopcard,r1history,r2history,dealer,profit0)\n",
    "          \n",
    "    print('\\nPot size: {}'.format(pot))       \n",
    "    print('Player {} turn to act'.format(actingplayer))\n",
    "    bet = validbets(r1history,r2history,1)\n",
    "    playpreflop(p0card,p1card,flopcard,r1history+bet,r2history,dealer,profit0)\n",
    "\n",
    "    \n",
    "def playflop(p0card,p1card,flopcard,r1history,r2history,dealer,profit0):\n",
    "    #bet size is fixed = 4 for this round\n",
    "    print(r1history, r2history)\n",
    "    plays = len(r2history+r1history)\n",
    "    opponentplayer = (plays+dealer) % 2 #players are either player0 or player1\n",
    "    actingplayer = 1 - opponentplayer\n",
    "    pot = 2+ 2*r1history.count('b')+2*r1history.count('c')+4*r1history.count('r')+4*r2history.count('b')+4*r2history.count('c')+8*r2history.count('r')\n",
    "\n",
    "    if r2history[-1:] == 'f': #game over, last player folded\n",
    "        profit = (pot - 4)/2\n",
    "        if activeplayer == 0:\n",
    "            profit0 +=profit\n",
    "        else:\n",
    "            profit0 -=profit\n",
    "        print('End of game! Player {} wins pot of {} (profits {})\\n'.format(actingplayer,pot,profit))\n",
    "        main(dealer-1, profit0)\n",
    "    elif r2history[-2:] == 'kk' or r2history[-2:] == 'bc': #2 checks in a row or a bet and a call   \n",
    "        if p0card == flopcard:\n",
    "            winner = 0\n",
    "            winninghand = [p0card, flopcard]\n",
    "        elif p1card == flopcard:\n",
    "            winner = 1\n",
    "            winninghand = [p1card, flopcard]\n",
    "        elif p1card > p0card:\n",
    "            winner = 1\n",
    "            winninghand = [p1card, flopcard]\n",
    "        elif p0card > p1card:\n",
    "            winner = 0\n",
    "            winninghand = [p0card, flopcard]\n",
    "        else:\n",
    "            winninghand = [p0card, flopcard]\n",
    "            print('Tie game! Pot size {} and both players had {}\\n'.format(pot,winninghand))\n",
    "            main(1-dealer,profit0)\n",
    "        profit = pot/2\n",
    "        if winner == 0:\n",
    "            profit0 +=profit\n",
    "        else:\n",
    "            profit0 -=profit\n",
    "        print('End of game! Player {} wins pot of {} with {} (profits {})\\n'.format(winner,pot,winninghand,profit))\n",
    "        main(1-dealer,profit0)\n",
    "    \n",
    "    print('\\nPot size: {}'.format(pot))\n",
    "    print('Player {} turn to act'.format(actingplayer))\n",
    "    bet = validbets(r1history,r2history,2)\n",
    "    playflop(p0card,p1card,flopcard,r1history,r2history+bet,dealer,profit0)\n",
    "    \n",
    "\n",
    "def main(dealer, profit0):\n",
    "    #here we shuffle the deck and define a card for\n",
    "    #each player and the shared community card (only\n",
    "    #relevant if the players get to that betting round)\n",
    "    cards = [1,1,2,2,3,3] #define 6 card poker deck\n",
    "    cards_shuffled = np.random.shuffle(cards) #shuffle\n",
    "    if dealer == 0: #deal cards according to the standard order\n",
    "        p0card = cards[1]\n",
    "        p1card = cards[0]\n",
    "    else:\n",
    "        p0card = cards[0]\n",
    "        p1card = cards[1]\n",
    "    flopcard = cards[2] #the shared community card is the next card in the deck\n",
    "    print('=================\\nStarting new game\\n=================')\n",
    "    print('Player 0 profit: {}'.format(profit0))\n",
    "    print('Player 1 profit: {}'.format(-profit0))\n",
    "    print ('')\n",
    "    print('Player 0 card: {}'.format(p0card))\n",
    "    print('Player 1 card: {}'.format(p1card))\n",
    "    print ('')\n",
    "    playpreflop(p0card,p1card,flopcard,'','',dealer,profit0) #each player puts 1 into the pot automatically\n",
    "    \n",
    "main(0,0) #define dealer as p0 or p1 (dealer is the term for the player who acts first)"
   ]
  },
  {
   "cell_type": "code",
   "execution_count": null,
   "metadata": {},
   "outputs": [],
   "source": [
    "a = [1, 2, False, 3, False]\n",
    "b = random.choice(a)\n",
    "print(b)"
   ]
  },
  {
   "cell_type": "code",
   "execution_count": 45,
   "metadata": {},
   "outputs": [
    {
     "name": "stdout",
     "output_type": "stream",
     "text": [
      "h\n"
     ]
    }
   ],
   "source": [
    "a='h'\n",
    "print(a[-2:])"
   ]
  },
  {
   "cell_type": "code",
   "execution_count": 2,
   "metadata": {},
   "outputs": [
    {
     "data": {
      "text/plain": [
       "True"
      ]
     },
     "execution_count": 2,
     "metadata": {},
     "output_type": "execute_result"
    }
   ],
   "source": [
    "bet, rse, stn = True, True, True\n",
    "bet"
   ]
  },
  {
   "cell_type": "code",
   "execution_count": 6,
   "metadata": {},
   "outputs": [
    {
     "name": "stdout",
     "output_type": "stream",
     "text": [
      "stone\n"
     ]
    }
   ],
   "source": [
    "if True: print('stone')"
   ]
  },
  {
   "cell_type": "code",
   "execution_count": 12,
   "metadata": {},
   "outputs": [
    {
     "name": "stdout",
     "output_type": "stream",
     "text": [
      "[True, True, True, True, True]\n"
     ]
    }
   ],
   "source": [
    "fld, chk, cll, bet, rse = True, True, True, True, True\n",
    "betoptions = [fld,chk,cll,bet,rse]\n",
    "for i in betoptions:\n",
    "    i = True\n",
    "    \n",
    "print(betoptions)"
   ]
  },
  {
   "cell_type": "code",
   "execution_count": 13,
   "metadata": {},
   "outputs": [
    {
     "name": "stdout",
     "output_type": "stream",
     "text": [
      "b\n"
     ]
    }
   ],
   "source": [
    "r1 = 'bd'\n",
    "r2 = 'cf'\n",
    "history = [r1, r2]\n",
    "print(history[0][0])"
   ]
  },
  {
   "cell_type": "code",
   "execution_count": 18,
   "metadata": {},
   "outputs": [
    {
     "ename": "NameError",
     "evalue": "name 'f' is not defined",
     "output_type": "error",
     "traceback": [
      "\u001b[0;31m-------------------------------------------------------------------------\u001b[0m",
      "\u001b[0;31mNameError\u001b[0m                               Traceback (most recent call last)",
      "\u001b[0;32m<ipython-input-18-5560dd06cb42>\u001b[0m in \u001b[0;36m<module>\u001b[0;34m\u001b[0m\n\u001b[0;32m----> 1\u001b[0;31m \u001b[0mbetoptions\u001b[0m \u001b[0;34m=\u001b[0m \u001b[0;34m[\u001b[0m\u001b[0mf\u001b[0m\u001b[0;34m,\u001b[0m\u001b[0mk\u001b[0m\u001b[0;34m,\u001b[0m\u001b[0mc\u001b[0m\u001b[0;34m,\u001b[0m\u001b[0mb\u001b[0m\u001b[0;34m,\u001b[0m\u001b[0mr\u001b[0m\u001b[0;34m]\u001b[0m \u001b[0;31m#fold check call bet raise\u001b[0m\u001b[0;34m\u001b[0m\u001b[0;34m\u001b[0m\u001b[0m\n\u001b[0m\u001b[1;32m      2\u001b[0m \u001b[0;32mfor\u001b[0m \u001b[0mi\u001b[0m \u001b[0;32min\u001b[0m \u001b[0mbetoptions\u001b[0m\u001b[0;34m:\u001b[0m\u001b[0;34m\u001b[0m\u001b[0;34m\u001b[0m\u001b[0m\n\u001b[1;32m      3\u001b[0m     \u001b[0mi\u001b[0m \u001b[0;34m=\u001b[0m \u001b[0;32mTrue\u001b[0m\u001b[0;34m\u001b[0m\u001b[0;34m\u001b[0m\u001b[0m\n\u001b[1;32m      4\u001b[0m \u001b[0;34m\u001b[0m\u001b[0m\n\u001b[1;32m      5\u001b[0m \u001b[0mprint\u001b[0m\u001b[0;34m(\u001b[0m\u001b[0mbetoptions\u001b[0m\u001b[0;34m)\u001b[0m\u001b[0;34m\u001b[0m\u001b[0;34m\u001b[0m\u001b[0m\n",
      "\u001b[0;31mNameError\u001b[0m: name 'f' is not defined"
     ]
    }
   ],
   "source": [
    "betoptions = [f,k,c,b,r] #fold check call bet raise\n",
    "for i in betoptions:\n",
    "    i = True\n",
    "\n",
    "print(betoptions)"
   ]
  },
  {
   "cell_type": "code",
   "execution_count": null,
   "metadata": {},
   "outputs": [],
   "source": []
  }
 ],
 "metadata": {
  "kernelspec": {
   "display_name": "Python 3",
   "language": "python",
   "name": "python3"
  }
 },
 "nbformat": 4,
 "nbformat_minor": 2
}

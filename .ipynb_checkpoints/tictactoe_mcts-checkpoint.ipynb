{
 "cells": [
  {
   "cell_type": "code",
   "execution_count": 43,
   "metadata": {},
   "outputs": [],
   "source": [
    "from math import *\n",
    "import numpy as np\n",
    "import copy\n",
    "import random"
   ]
  },
  {
   "cell_type": "code",
   "execution_count": 57,
   "metadata": {
    "scrolled": true
   },
   "outputs": [
    {
     "name": "stdout",
     "output_type": "stream",
     "text": [
      "123\n",
      "456\n",
      "789\n",
      "select move 1\n",
      "<class '__main__.Tictactoe'>\n",
      "new node\n",
      "<class '__main__.Tictactoe'>\n",
      "gs\n",
      "<class '__main__.Tictactoe'>\n",
      "node test <__main__.MCTSNode object at 0x1126bdda0>\n",
      "second\n",
      "move index 1\n",
      "new mnove 1\n",
      "stone <class 'NoneType'>\n",
      "new node\n",
      "<class 'NoneType'>\n"
     ]
    },
    {
     "name": "stderr",
     "output_type": "stream",
     "text": [
      "/anaconda3/lib/python3.7/site-packages/ipykernel_launcher.py:12: FutureWarning: elementwise comparison failed; returning scalar instead, but in the future will perform elementwise comparison\n",
      "  if sys.path[0] == '':\n"
     ]
    },
    {
     "ename": "AttributeError",
     "evalue": "'NoneType' object has no attribute 'available_moves'",
     "output_type": "error",
     "traceback": [
      "\u001b[0;31m---------------------------------------------------------------------------\u001b[0m",
      "\u001b[0;31mAttributeError\u001b[0m                            Traceback (most recent call last)",
      "\u001b[0;32m<ipython-input-57-ae40f674e673>\u001b[0m in \u001b[0;36m<module>\u001b[0;34m\u001b[0m\n\u001b[1;32m    158\u001b[0m         \u001b[0;32mif\u001b[0m \u001b[0mgame_state\u001b[0m\u001b[0;34m.\u001b[0m\u001b[0macting_player\u001b[0m \u001b[0;34m==\u001b[0m \u001b[0;36m1\u001b[0m\u001b[0;34m:\u001b[0m\u001b[0;34m\u001b[0m\u001b[0;34m\u001b[0m\u001b[0m\n\u001b[1;32m    159\u001b[0m             \u001b[0;31m#print(type(game_state))\u001b[0m\u001b[0;34m\u001b[0m\u001b[0;34m\u001b[0m\u001b[0;34m\u001b[0m\u001b[0m\n\u001b[0;32m--> 160\u001b[0;31m             \u001b[0mms\u001b[0m \u001b[0;34m=\u001b[0m \u001b[0magent1\u001b[0m\u001b[0;34m.\u001b[0m\u001b[0mselect_move\u001b[0m\u001b[0;34m(\u001b[0m\u001b[0mgame_state\u001b[0m\u001b[0;34m)\u001b[0m \u001b[0;31m#num_rounds tree search iterations from this state\u001b[0m\u001b[0;34m\u001b[0m\u001b[0;34m\u001b[0m\u001b[0m\n\u001b[0m\u001b[1;32m    161\u001b[0m         \u001b[0;32melse\u001b[0m\u001b[0;34m:\u001b[0m\u001b[0;34m\u001b[0m\u001b[0;34m\u001b[0m\u001b[0m\n\u001b[1;32m    162\u001b[0m             \u001b[0mms\u001b[0m \u001b[0;34m=\u001b[0m \u001b[0magent2\u001b[0m\u001b[0;34m.\u001b[0m\u001b[0mselect_move\u001b[0m\u001b[0;34m(\u001b[0m\u001b[0mgame_state\u001b[0m\u001b[0;34m)\u001b[0m\u001b[0;34m\u001b[0m\u001b[0;34m\u001b[0m\u001b[0m\n",
      "\u001b[0;32m<ipython-input-57-ae40f674e673>\u001b[0m in \u001b[0;36mselect_move\u001b[0;34m(self, game_state)\u001b[0m\n\u001b[1;32m     97\u001b[0m             \u001b[0;32mif\u001b[0m \u001b[0mnode\u001b[0m\u001b[0;34m.\u001b[0m\u001b[0munvisited_moves\u001b[0m \u001b[0;34m!=\u001b[0m \u001b[0;34m[\u001b[0m\u001b[0;34m]\u001b[0m\u001b[0;34m:\u001b[0m\u001b[0;34m\u001b[0m\u001b[0;34m\u001b[0m\u001b[0m\n\u001b[1;32m     98\u001b[0m                 \u001b[0mprint\u001b[0m\u001b[0;34m(\u001b[0m\u001b[0;34m'second'\u001b[0m\u001b[0;34m)\u001b[0m\u001b[0;34m\u001b[0m\u001b[0;34m\u001b[0m\u001b[0m\n\u001b[0;32m---> 99\u001b[0;31m                 \u001b[0mnode\u001b[0m \u001b[0;34m=\u001b[0m \u001b[0mnode\u001b[0m\u001b[0;34m.\u001b[0m\u001b[0madd_random_child\u001b[0m\u001b[0;34m(\u001b[0m\u001b[0;34m)\u001b[0m\u001b[0;34m\u001b[0m\u001b[0;34m\u001b[0m\u001b[0m\n\u001b[0m\u001b[1;32m    100\u001b[0m                 \u001b[0mprint\u001b[0m\u001b[0;34m(\u001b[0m\u001b[0;34m'node fucked up'\u001b[0m\u001b[0;34m,\u001b[0m \u001b[0mnode\u001b[0m\u001b[0;34m)\u001b[0m\u001b[0;34m\u001b[0m\u001b[0;34m\u001b[0m\u001b[0m\n\u001b[1;32m    101\u001b[0m                 \u001b[0mprint\u001b[0m\u001b[0;34m(\u001b[0m\u001b[0;34m'fucked'\u001b[0m\u001b[0;34m,\u001b[0m \u001b[0mtype\u001b[0m\u001b[0;34m(\u001b[0m\u001b[0mnode\u001b[0m\u001b[0;34m)\u001b[0m\u001b[0;34m)\u001b[0m\u001b[0;34m\u001b[0m\u001b[0;34m\u001b[0m\u001b[0m\n",
      "\u001b[0;32m<ipython-input-57-ae40f674e673>\u001b[0m in \u001b[0;36madd_random_child\u001b[0;34m(self)\u001b[0m\n\u001b[1;32m     56\u001b[0m         \u001b[0mnew_game_state\u001b[0m \u001b[0;34m=\u001b[0m \u001b[0mself\u001b[0m\u001b[0;34m.\u001b[0m\u001b[0mgame_state\u001b[0m\u001b[0;34m.\u001b[0m\u001b[0mmake_move\u001b[0m\u001b[0;34m(\u001b[0m\u001b[0mnew_move\u001b[0m\u001b[0;34m)\u001b[0m\u001b[0;34m\u001b[0m\u001b[0;34m\u001b[0m\u001b[0m\n\u001b[1;32m     57\u001b[0m         \u001b[0mprint\u001b[0m\u001b[0;34m(\u001b[0m\u001b[0;34m'stone'\u001b[0m\u001b[0;34m,\u001b[0m \u001b[0mtype\u001b[0m\u001b[0;34m(\u001b[0m\u001b[0mnew_game_state\u001b[0m\u001b[0;34m)\u001b[0m\u001b[0;34m)\u001b[0m\u001b[0;34m\u001b[0m\u001b[0;34m\u001b[0m\u001b[0m\n\u001b[0;32m---> 58\u001b[0;31m         \u001b[0mnew_node\u001b[0m \u001b[0;34m=\u001b[0m \u001b[0mMCTSNode\u001b[0m\u001b[0;34m(\u001b[0m\u001b[0mnew_game_state\u001b[0m\u001b[0;34m,\u001b[0m \u001b[0mself\u001b[0m\u001b[0;34m,\u001b[0m \u001b[0mnew_move\u001b[0m\u001b[0;34m)\u001b[0m\u001b[0;34m\u001b[0m\u001b[0;34m\u001b[0m\u001b[0m\n\u001b[0m\u001b[1;32m     59\u001b[0m         \u001b[0mprint\u001b[0m\u001b[0;34m(\u001b[0m\u001b[0;34m'test'\u001b[0m\u001b[0;34m)\u001b[0m\u001b[0;34m\u001b[0m\u001b[0;34m\u001b[0m\u001b[0m\n\u001b[1;32m     60\u001b[0m         \u001b[0mprint\u001b[0m\u001b[0;34m(\u001b[0m\u001b[0mtype\u001b[0m\u001b[0;34m(\u001b[0m\u001b[0mnew_node\u001b[0m\u001b[0;34m)\u001b[0m\u001b[0;34m)\u001b[0m\u001b[0;34m\u001b[0m\u001b[0;34m\u001b[0m\u001b[0m\n",
      "\u001b[0;32m<ipython-input-57-ae40f674e673>\u001b[0m in \u001b[0;36m__init__\u001b[0;34m(self, game_state, parent, move)\u001b[0m\n\u001b[1;32m     46\u001b[0m         \u001b[0mprint\u001b[0m\u001b[0;34m(\u001b[0m\u001b[0;34m'new node'\u001b[0m\u001b[0;34m)\u001b[0m\u001b[0;34m\u001b[0m\u001b[0;34m\u001b[0m\u001b[0m\n\u001b[1;32m     47\u001b[0m         \u001b[0mprint\u001b[0m\u001b[0;34m(\u001b[0m\u001b[0mtype\u001b[0m\u001b[0;34m(\u001b[0m\u001b[0mgame_state\u001b[0m\u001b[0;34m)\u001b[0m\u001b[0;34m)\u001b[0m\u001b[0;34m\u001b[0m\u001b[0;34m\u001b[0m\u001b[0m\n\u001b[0;32m---> 48\u001b[0;31m         \u001b[0mself\u001b[0m\u001b[0;34m.\u001b[0m\u001b[0munvisited_moves\u001b[0m \u001b[0;34m=\u001b[0m \u001b[0mgame_state\u001b[0m\u001b[0;34m.\u001b[0m\u001b[0mavailable_moves\u001b[0m\u001b[0;34m(\u001b[0m\u001b[0;34m)\u001b[0m\u001b[0;34m\u001b[0m\u001b[0;34m\u001b[0m\u001b[0m\n\u001b[0m\u001b[1;32m     49\u001b[0m         \u001b[0mself\u001b[0m\u001b[0;34m.\u001b[0m\u001b[0mplayer\u001b[0m \u001b[0;34m=\u001b[0m \u001b[0mgame_state\u001b[0m\u001b[0;34m.\u001b[0m\u001b[0macting_player\u001b[0m\u001b[0;34m\u001b[0m\u001b[0;34m\u001b[0m\u001b[0m\n\u001b[1;32m     50\u001b[0m \u001b[0;34m\u001b[0m\u001b[0m\n",
      "\u001b[0;31mAttributeError\u001b[0m: 'NoneType' object has no attribute 'available_moves'"
     ]
    }
   ],
   "source": [
    "class Tictactoe:\n",
    "    def __init__(self, board = np.zeros(9)):\n",
    "        self.acting_player = 1\n",
    "        self.board = board\n",
    "\n",
    "    def make_move(self, move):\n",
    "        if move in range(9) and self.board[move] == 0:\n",
    "            self.board[move] = self.acting_player\n",
    "            self.acting_player = 3 - self.acting_player \n",
    "            \n",
    "    def available_moves(self):\n",
    "        return [i for i in range(9) if (self.board != 'x' and self.board != 'o')]\n",
    "    \n",
    "    def check_result(self, player):\n",
    "        winner = 0\n",
    "        if player == 1: \n",
    "            s = 'x'\n",
    "        else:\n",
    "            s = 'o'\n",
    "        for (a,b,c) in [(0,1,2),(3,4,5),(6,7,8),(0,3,6),(1,4,7),(2,5,8),(0,4,8),(2,4,6)]:\n",
    "            if self.board[a] == self.board[b] == self.board[c]:\n",
    "                if self.board[a] == s:\n",
    "                    return 1.0\n",
    "                else:\n",
    "                    return 0.0\n",
    "        if self.available_moves == []: return 0.5 \n",
    "        \n",
    "    def __repr__(self):\n",
    "        s= \"\"\n",
    "        for i in range(9): \n",
    "            if self.board[i] == 0:\n",
    "                s+=str(i+1)\n",
    "            else:\n",
    "                s+=str(self.board[i])\n",
    "            if i == 2 or i == 5: s += \"\\n\"\n",
    "        return s\n",
    "        \n",
    "class MCTSNode: \n",
    "    def __init__(self, game_state, parent = None, move = None):\n",
    "        self.parent = parent\n",
    "        self.move = move\n",
    "        self.game_state = game_state\n",
    "        self.children = []\n",
    "        self.win_count = 0\n",
    "        self.num_rollouts = 0\n",
    "        print('new node')\n",
    "        print(type(game_state))\n",
    "        self.unvisited_moves = game_state.available_moves()\n",
    "        self.player = game_state.acting_player\n",
    "        \n",
    "    def add_random_child(self):\n",
    "        move_index = random.randint(0, len(self.unvisited_moves)-1)\n",
    "        print('move index', move_index)\n",
    "        new_move = self.unvisited_moves.pop(move_index)\n",
    "        print('new mnove', new_move)\n",
    "        new_game_state = self.game_state.make_move(new_move)\n",
    "        print('stone', type(new_game_state))\n",
    "        new_node = MCTSNode(new_game_state, self, new_move)\n",
    "        print('test')\n",
    "        print(type(new_node))\n",
    "        self.children.append(new_node)\n",
    "        return new_node       \n",
    "    \n",
    "    def update(self, result):\n",
    "        self.win_count += result\n",
    "        self.num_rollouts += 1\n",
    "        \n",
    "class MinimaxAgent:\n",
    "    def select_move(self, game_state):\n",
    "        winning_moves = []\n",
    "        draw_moves = []\n",
    "        losing_moves = []\n",
    "        for possible_move in game_state.legal_moves():\n",
    "            next_state = game_state.apply\n",
    "    \n",
    "class UCTAgent:\n",
    "    def __init__(self, num_rounds = 200, temperature = 1, alphabeta = False):\n",
    "        self.num_rounds = num_rounds\n",
    "        self.temperature = temperature\n",
    "        self.alphabeta = alphabeta\n",
    "        \n",
    "    def select_move(self, game_state):\n",
    "        print ('select move', game_state.acting_player)\n",
    "        \n",
    "        print(type(game_state))\n",
    "        root = MCTSNode(game_state)\n",
    "        \n",
    "        for i in range(self.num_rounds):\n",
    "            node = root\n",
    "            #gs = copy.copy(game_state) #deepcopy?\n",
    "            #print('gs')\n",
    "            #print(type(gs))\n",
    "            print('node test', node)\n",
    "            \n",
    "            \n",
    "            #selection -- select leaf that has not had playout (simulation) yet\n",
    "            #while (not node.can_add_child()) and (not node.is_terminal()):\n",
    "            while node.unvisited_moves == [] and node.children != []:\n",
    "                print('first')\n",
    "                node = self.uct_select_child(node)\n",
    "                print('node test2', node)\n",
    "                #gs.make_move(node.move)\n",
    "            \n",
    "            #expansion -- expand from leaf unless leaf is end of game\n",
    "            if node.unvisited_moves != []:\n",
    "                print('second')\n",
    "                node = node.add_random_child()\n",
    "                print('node fucked up', node)\n",
    "                print('fucked', type(node))\n",
    "            \n",
    "            #simulation -- complete a random playout from the newly expanded node\n",
    "            while gs.available_moves() != []:\n",
    "                print('third')\n",
    "                gs.make_move(random.choice(gs.available_moves()))\n",
    "            \n",
    "            #backpropagation -- update all nodes from the selection to leaf stage\n",
    "            while node is not None:\n",
    "                node.update(gs.check_result(node.acting_player))\n",
    "                node = node.parent\n",
    "                \n",
    "    def uct_select_child(self, node):\n",
    "        total_rollouts = sum(child.num_rollouts for child in node.children)\n",
    "        log_rollouts = math.log(total_rollouts)\n",
    "        \n",
    "        best_score = -1\n",
    "        best_child = None\n",
    "        for child in node.children:\n",
    "            win_percentage = float(child.win_count)/float(child.num_rollouts)\n",
    "            expl_factor = math.sqrt(log_rollouts / child.num_rollouts)\n",
    "            uct_score = win_percentage + self.temperature * expl_factor\n",
    "            if uct_score > best_score:\n",
    "                best_score = uct_score\n",
    "                best_child = child\n",
    "        return best_child\n",
    "        \n",
    "class RandomAgent:       \n",
    "    def select_move(self, game_state):\n",
    "        return random.choice(game_state.available_moves())\n",
    "    \n",
    "class HumanAgent:\n",
    "    def select_move(self, game_state):\n",
    "        print('Enter your move (1-9): ')\n",
    "        input(move)\n",
    "        if move in game_state.available_moves():\n",
    "            return move\n",
    "        else:\n",
    "            print('Invalid move, try again')\n",
    "            select_move(game_state)\n",
    "    \n",
    "class BasicAgent:\n",
    "    def select_move(self, game_state):\n",
    "        return random.choice(game_state.available_moves())\n",
    "        #win if possible, block loss if possible, do double win option for next time if possible, otherwise random\n",
    "\n",
    "if __name__ == \"__main__\":\n",
    "    game_state = Tictactoe()\n",
    "    #print(type(game_state))\n",
    "    #game_state = Tictactoe(board = ['x','o',0,0,'x',0,'o',0,0])\n",
    "    \n",
    "    agent1 = UCTAgent(num_rounds = 1000, temperature = 1, alphabeta = False)\n",
    "    agent2 = UCTAgent(num_rounds = 1000, temperature = 1, alphabeta = False)\n",
    "    \n",
    "    #one full game using MCTS for each action\n",
    "    while (game_state.available_moves() != []):\n",
    "        print(str(game_state))\n",
    "        if game_state.acting_player == 1:\n",
    "            #print(type(game_state))\n",
    "            ms = agent1.select_move(game_state) #num_rounds tree search iterations from this state\n",
    "        else:\n",
    "            ms = agent2.select_move(game_state)\n",
    "        print(\"\\n\" + \"Agent \" + str(game_state.acting_player) + \"move: \" + str(ms) + \"\\n\")\n",
    "        print(game_state)\n",
    "        game_state.make_move(ms)\n",
    "    \n",
    "    if game_state.check_result(game_state.acting_player) == 1.0:\n",
    "        print(\"Player \" + str(game_state.acting_player) + \" wins!\")\n",
    "    elif state.GetResult(game_state.acting_player) == 0.0:\n",
    "        print(\"Player \" + str(3 - game_state.acting_player) + \" wins!\")\n",
    "    else: print(\"Tie game\")\n",
    "        \n",
    "        "
   ]
  },
  {
   "cell_type": "code",
   "execution_count": null,
   "metadata": {},
   "outputs": [],
   "source": [
    "def show_tree(node, indent='', max_depth=3):\n",
    "    if max_depth < 0:\n",
    "        return\n",
    "    if node is None:\n",
    "        return\n",
    "    if node.parent is None:\n",
    "        print('%sroot' % indent)\n",
    "    else:\n",
    "        player = node.parent.game_state.next_player\n",
    "        move = node.move\n",
    "        print('%s%s %s %d %.3f' % (\n",
    "            indent, fmt(player), fmt(move),\n",
    "            node.num_rollouts,\n",
    "            node.winning_frac(player),\n",
    "        ))\n",
    "    for child in sorted(node.children, key=lambda n: n.num_rollouts, reverse=True):\n",
    "        show_tree(child, indent + '  ', max_depth - 1)\n",
    "\n"
   ]
  },
  {
   "cell_type": "code",
   "execution_count": 21,
   "metadata": {},
   "outputs": [
    {
     "ename": "AttributeError",
     "evalue": "'Tictactoe' object has no attribute 'type'",
     "output_type": "error",
     "traceback": [
      "\u001b[0;31m---------------------------------------------------------------------------\u001b[0m",
      "\u001b[0;31mAttributeError\u001b[0m                            Traceback (most recent call last)",
      "\u001b[0;32m<ipython-input-21-c389901b9f0d>\u001b[0m in \u001b[0;36m<module>\u001b[0;34m\u001b[0m\n\u001b[0;32m----> 1\u001b[0;31m \u001b[0mgame_state\u001b[0m\u001b[0;34m.\u001b[0m\u001b[0mtype\u001b[0m\u001b[0;34m(\u001b[0m\u001b[0;34m)\u001b[0m\u001b[0;34m\u001b[0m\u001b[0;34m\u001b[0m\u001b[0m\n\u001b[0m",
      "\u001b[0;31mAttributeError\u001b[0m: 'Tictactoe' object has no attribute 'type'"
     ]
    }
   ],
   "source": [
    "game_state.type()"
   ]
  },
  {
   "cell_type": "code",
   "execution_count": 3,
   "metadata": {},
   "outputs": [
    {
     "name": "stdout",
     "output_type": "stream",
     "text": [
      "0\n",
      "1\n",
      "2\n",
      "3\n",
      "4\n",
      "5\n",
      "6\n",
      "7\n"
     ]
    }
   ],
   "source": [
    "for i in range(8):\n",
    "    print(i)"
   ]
  },
  {
   "cell_type": "code",
   "execution_count": 6,
   "metadata": {},
   "outputs": [],
   "source": [
    "i = np.zeros(9)"
   ]
  },
  {
   "cell_type": "code",
   "execution_count": 7,
   "metadata": {},
   "outputs": [
    {
     "name": "stdout",
     "output_type": "stream",
     "text": [
      "[0. 0. 0. 0. 0. 0. 0. 0. 0.]\n"
     ]
    }
   ],
   "source": [
    "print(i)"
   ]
  },
  {
   "cell_type": "code",
   "execution_count": 9,
   "metadata": {},
   "outputs": [
    {
     "data": {
      "text/plain": [
       "True"
      ]
     },
     "execution_count": 9,
     "metadata": {},
     "output_type": "execute_result"
    }
   ],
   "source": [
    "8 in range(9)"
   ]
  },
  {
   "cell_type": "code",
   "execution_count": 11,
   "metadata": {},
   "outputs": [],
   "source": [
    "a = [1, 2, 3]"
   ]
  },
  {
   "cell_type": "code",
   "execution_count": 12,
   "metadata": {},
   "outputs": [
    {
     "data": {
      "text/plain": [
       "3"
      ]
     },
     "execution_count": 12,
     "metadata": {},
     "output_type": "execute_result"
    }
   ],
   "source": [
    "len(a)"
   ]
  },
  {
   "cell_type": "code",
   "execution_count": null,
   "metadata": {},
   "outputs": [],
   "source": []
  }
 ],
 "metadata": {
  "kernelspec": {
   "display_name": "Python 3",
   "language": "python",
   "name": "python3"
  },
  "language_info": {
   "codemirror_mode": {
    "name": "ipython",
    "version": 3
   },
   "file_extension": ".py",
   "mimetype": "text/x-python",
   "name": "python",
   "nbconvert_exporter": "python",
   "pygments_lexer": "ipython3",
   "version": "3.7.1"
  }
 },
 "nbformat": 4,
 "nbformat_minor": 2
}

{
 "cells": [
  {
   "cell_type": "code",
   "execution_count": 28,
   "metadata": {},
   "outputs": [],
   "source": [
    "import numpy as np\n",
    "import pulp"
   ]
  },
  {
   "cell_type": "code",
   "execution_count": null,
   "metadata": {},
   "outputs": [],
   "source": [
    "A=np.array([[0,0,0,0,0,0,0,0,0,0,0,0,0],\n",
    "    [0,0,0,0,0,2,1,0,0,2,1,0,0],\n",
    "    [0,0,0,0,0,0,0,0,1,0,0,0,1],\n",
    "    [0,0,0,0,0,0,0,2,0,0,0,2,0],\n",
    "    [0,0,0,0,0,0,0,-1,0,0,0,-1,0],\n",
    "    [0,-2,1,0,0,0,0,0,0,2,1,0,0],\n",
    "    [0,0,0,0,-1,0,0,0,0,0,0,0,1],\n",
    "    [0,0,0,-2,0,0,0,0,0,0,0,2,0],\n",
    "    [0,0,0,-1,0,0,0,0,0,0,0,-1,0],\n",
    "    [0,-2,1,0,0,-2,1,0,0,0,0,0,0],\n",
    "    [0,0,0,0,-1,0,0,0,-1,0,0,0,0],\n",
    "    [0,0,0,-2,0,0,0,-2,0,0,0,0,0],\n",
    "    [0,0,0,-1,0,0,0,-1,0,0,0,0,0]])"
   ]
  },
  {
   "cell_type": "code",
   "execution_count": 22,
   "metadata": {},
   "outputs": [],
   "source": [
    "F = np.array([[1,0,0,0,0,0,0,0,0,0,0,0,0],\n",
    "    [-1,1,1,0,0,0,0,0,0,0,0,0,0],\n",
    "    [-1,0,0,1,1,0,0,0,0,0,0,0,0],\n",
    "    [-1,0,0,0,0,1,1,0,0,0,0,0,0],\n",
    "    [-1,0,0,0,0,0,0,1,1,0,0,0,0],\n",
    "    [-1,0,0,0,0,0,0,0,0,1,1,0,0],\n",
    "    [-1,0,0,0,0,0,0,0,0,0,0,1,1]])\n",
    "\n",
    "f = np.array([[1],[0],[0],[0],[0],[0],[0]])"
   ]
  },
  {
   "cell_type": "code",
   "execution_count": 25,
   "metadata": {},
   "outputs": [],
   "source": [
    "E=[[1,0,0,0,0,0,0,0,0,0,0,0,0],\n",
    "    [-1,1,1,0,0,0,0,0,0,0,0,0,0],\n",
    "    [0,0,-1,1,1,0,0,0,0,0,0,0,0],\n",
    "    [-1,0,0,0,0,1,1,0,0,0,0,0,0],\n",
    "    [0,0,0,0,0,0,-1,1,1,0,0,0,0],\n",
    "    [-1,0,0,0,0,0,0,0,0,1,1,0,0],\n",
    "    [0,0,0,0,0,0,0,0,0,0,-1,1,1]]\n",
    "    \n",
    "e = np.array([[1],[0],[0],[0],[0],[0],[0]])"
   ]
  },
  {
   "cell_type": "code",
   "execution_count": 35,
   "metadata": {},
   "outputs": [],
   "source": [
    "kuhn_max = pulp.LpProblem(\"KuhnMax\", pulp.LpMaximize)\n",
    "kuhn_min = pulp.LpProblem(\"KuhnMin\", pulp.LpMinimize)"
   ]
  },
  {
   "cell_type": "code",
   "execution_count": 36,
   "metadata": {},
   "outputs": [],
   "source": [
    "x = pulp.LpVariable('x', lowBound=0, cat='Continuous')\n",
    "y = pulp.LpVariable('y', lowBound=0, cat='Continuous')"
   ]
  },
  {
   "cell_type": "code",
   "execution_count": 37,
   "metadata": {},
   "outputs": [
    {
     "ename": "SyntaxError",
     "evalue": "invalid syntax (<ipython-input-37-0c2c56945f1e>, line 2)",
     "output_type": "error",
     "traceback": [
      "\u001b[0;36m  File \u001b[0;32m\"<ipython-input-37-0c2c56945f1e>\"\u001b[0;36m, line \u001b[0;32m2\u001b[0m\n\u001b[0;31m    kuhn_min += E * x = e\u001b[0m\n\u001b[0m                      ^\u001b[0m\n\u001b[0;31mSyntaxError\u001b[0m\u001b[0;31m:\u001b[0m invalid syntax\n"
     ]
    }
   ],
   "source": [
    "kuhn_min += x * A * y\n",
    "kuhn_min += E * x == e\n",
    "kuhn_min += F * y == f"
   ]
  },
  {
   "cell_type": "code",
   "execution_count": null,
   "metadata": {},
   "outputs": [],
   "source": []
  }
 ],
 "metadata": {
  "kernelspec": {
   "display_name": "Python 3",
   "language": "python",
   "name": "python3"
  },
  "language_info": {
   "codemirror_mode": {
    "name": "ipython",
    "version": 3
   },
   "file_extension": ".py",
   "mimetype": "text/x-python",
   "name": "python",
   "nbconvert_exporter": "python",
   "pygments_lexer": "ipython3",
   "version": "3.7.1"
  }
 },
 "nbformat": 4,
 "nbformat_minor": 2
}

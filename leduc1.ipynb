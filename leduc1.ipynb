{
 "cells": [
  {
   "cell_type": "code",
   "execution_count": 1,
   "metadata": {},
   "outputs": [
    {
     "name": "stdout",
     "output_type": "stream",
     "text": [
      "=================\n",
      "Starting new game\n",
      "=================\n",
      "Player 0 profit: 0\n",
      "Player 1 profit: 0\n",
      "\n",
      "Player 0 card: 3\n",
      "Player 1 card: 3\n",
      "\n",
      " \n",
      "\n",
      "Pot size: 2.0\n",
      "Player 0 turn to act\n",
      "CHECK: k\n",
      "BET 2: b\n",
      "b\n",
      "b \n",
      "\n",
      "Pot size: 4.0\n",
      "Player 1 turn to act\n",
      "FOLD: f\n",
      "CALL 2: c\n",
      "RAISE 4: r\n",
      "c\n",
      "bc \n",
      "\n",
      "Dealing flop card: 1\n",
      "bc \n",
      "\n",
      "Pot size: 6.0\n",
      "Player 1 turn to act\n",
      "CHECK: k\n",
      "BET 4: b\n",
      "k\n",
      "bc k\n",
      "\n",
      "Pot size: 6.0\n",
      "Player 0 turn to act\n",
      "CHECK: k\n",
      "BET 4: b\n",
      "k\n",
      "bc kk\n",
      "Tie game! Pot size 6.0 and both players had [3, 1]\n",
      "\n",
      "=================\n",
      "Starting new game\n",
      "=================\n",
      "Player 0 profit: 0\n",
      "Player 1 profit: 0\n",
      "\n",
      "Player 0 card: 2\n",
      "Player 1 card: 1\n",
      "\n",
      " \n",
      "\n",
      "Pot size: 2.0\n",
      "Player 1 turn to act\n",
      "CHECK: k\n",
      "BET 2: b\n",
      "b\n",
      "b \n",
      "\n",
      "Pot size: 4.0\n",
      "Player 0 turn to act\n",
      "FOLD: f\n",
      "CALL 2: c\n",
      "RAISE 4: r\n",
      "c\n",
      "bc \n",
      "\n",
      "Dealing flop card: 3\n",
      "bc \n",
      "\n",
      "Pot size: 6.0\n",
      "Player 0 turn to act\n",
      "CHECK: k\n",
      "BET 4: b\n"
     ]
    },
    {
     "ename": "KeyboardInterrupt",
     "evalue": "",
     "output_type": "error",
     "traceback": [
      "\u001b[0;31m---------------------------------------------------------------------------\u001b[0m",
      "\u001b[0;31mKeyboardInterrupt\u001b[0m                         Traceback (most recent call last)",
      "\u001b[0;32m/anaconda3/lib/python3.7/site-packages/ipykernel/kernelbase.py\u001b[0m in \u001b[0;36m_input_request\u001b[0;34m(self, prompt, ident, parent, password)\u001b[0m\n\u001b[1;32m    877\u001b[0m             \u001b[0;32mtry\u001b[0m\u001b[0;34m:\u001b[0m\u001b[0;34m\u001b[0m\u001b[0;34m\u001b[0m\u001b[0m\n\u001b[0;32m--> 878\u001b[0;31m                 \u001b[0mident\u001b[0m\u001b[0;34m,\u001b[0m \u001b[0mreply\u001b[0m \u001b[0;34m=\u001b[0m \u001b[0mself\u001b[0m\u001b[0;34m.\u001b[0m\u001b[0msession\u001b[0m\u001b[0;34m.\u001b[0m\u001b[0mrecv\u001b[0m\u001b[0;34m(\u001b[0m\u001b[0mself\u001b[0m\u001b[0;34m.\u001b[0m\u001b[0mstdin_socket\u001b[0m\u001b[0;34m,\u001b[0m \u001b[0;36m0\u001b[0m\u001b[0;34m)\u001b[0m\u001b[0;34m\u001b[0m\u001b[0;34m\u001b[0m\u001b[0m\n\u001b[0m\u001b[1;32m    879\u001b[0m             \u001b[0;32mexcept\u001b[0m \u001b[0mException\u001b[0m\u001b[0;34m:\u001b[0m\u001b[0;34m\u001b[0m\u001b[0;34m\u001b[0m\u001b[0m\n",
      "\u001b[0;32m/anaconda3/lib/python3.7/site-packages/jupyter_client/session.py\u001b[0m in \u001b[0;36mrecv\u001b[0;34m(self, socket, mode, content, copy)\u001b[0m\n\u001b[1;32m    802\u001b[0m         \u001b[0;32mtry\u001b[0m\u001b[0;34m:\u001b[0m\u001b[0;34m\u001b[0m\u001b[0;34m\u001b[0m\u001b[0m\n\u001b[0;32m--> 803\u001b[0;31m             \u001b[0mmsg_list\u001b[0m \u001b[0;34m=\u001b[0m \u001b[0msocket\u001b[0m\u001b[0;34m.\u001b[0m\u001b[0mrecv_multipart\u001b[0m\u001b[0;34m(\u001b[0m\u001b[0mmode\u001b[0m\u001b[0;34m,\u001b[0m \u001b[0mcopy\u001b[0m\u001b[0;34m=\u001b[0m\u001b[0mcopy\u001b[0m\u001b[0;34m)\u001b[0m\u001b[0;34m\u001b[0m\u001b[0;34m\u001b[0m\u001b[0m\n\u001b[0m\u001b[1;32m    804\u001b[0m         \u001b[0;32mexcept\u001b[0m \u001b[0mzmq\u001b[0m\u001b[0;34m.\u001b[0m\u001b[0mZMQError\u001b[0m \u001b[0;32mas\u001b[0m \u001b[0me\u001b[0m\u001b[0;34m:\u001b[0m\u001b[0;34m\u001b[0m\u001b[0;34m\u001b[0m\u001b[0m\n",
      "\u001b[0;32m/anaconda3/lib/python3.7/site-packages/zmq/sugar/socket.py\u001b[0m in \u001b[0;36mrecv_multipart\u001b[0;34m(self, flags, copy, track)\u001b[0m\n\u001b[1;32m    466\u001b[0m         \"\"\"\n\u001b[0;32m--> 467\u001b[0;31m         \u001b[0mparts\u001b[0m \u001b[0;34m=\u001b[0m \u001b[0;34m[\u001b[0m\u001b[0mself\u001b[0m\u001b[0;34m.\u001b[0m\u001b[0mrecv\u001b[0m\u001b[0;34m(\u001b[0m\u001b[0mflags\u001b[0m\u001b[0;34m,\u001b[0m \u001b[0mcopy\u001b[0m\u001b[0;34m=\u001b[0m\u001b[0mcopy\u001b[0m\u001b[0;34m,\u001b[0m \u001b[0mtrack\u001b[0m\u001b[0;34m=\u001b[0m\u001b[0mtrack\u001b[0m\u001b[0;34m)\u001b[0m\u001b[0;34m]\u001b[0m\u001b[0;34m\u001b[0m\u001b[0;34m\u001b[0m\u001b[0m\n\u001b[0m\u001b[1;32m    468\u001b[0m         \u001b[0;31m# have first part already, only loop while more to receive\u001b[0m\u001b[0;34m\u001b[0m\u001b[0;34m\u001b[0m\u001b[0;34m\u001b[0m\u001b[0m\n",
      "\u001b[0;32mzmq/backend/cython/socket.pyx\u001b[0m in \u001b[0;36mzmq.backend.cython.socket.Socket.recv\u001b[0;34m()\u001b[0m\n",
      "\u001b[0;32mzmq/backend/cython/socket.pyx\u001b[0m in \u001b[0;36mzmq.backend.cython.socket.Socket.recv\u001b[0;34m()\u001b[0m\n",
      "\u001b[0;32mzmq/backend/cython/socket.pyx\u001b[0m in \u001b[0;36mzmq.backend.cython.socket._recv_copy\u001b[0;34m()\u001b[0m\n",
      "\u001b[0;32m/anaconda3/lib/python3.7/site-packages/zmq/backend/cython/checkrc.pxd\u001b[0m in \u001b[0;36mzmq.backend.cython.checkrc._check_rc\u001b[0;34m()\u001b[0m\n",
      "\u001b[0;31mKeyboardInterrupt\u001b[0m: ",
      "\nDuring handling of the above exception, another exception occurred:\n",
      "\u001b[0;31mKeyboardInterrupt\u001b[0m                         Traceback (most recent call last)",
      "\u001b[0;32m<ipython-input-1-66867b088604>\u001b[0m in \u001b[0;36m<module>\u001b[0;34m\u001b[0m\n\u001b[1;32m    155\u001b[0m     \u001b[0mplaypreflop\u001b[0m\u001b[0;34m(\u001b[0m\u001b[0mp0card\u001b[0m\u001b[0;34m,\u001b[0m\u001b[0mp1card\u001b[0m\u001b[0;34m,\u001b[0m\u001b[0mflopcard\u001b[0m\u001b[0;34m,\u001b[0m\u001b[0;34m''\u001b[0m\u001b[0;34m,\u001b[0m\u001b[0;34m''\u001b[0m\u001b[0;34m,\u001b[0m\u001b[0mdealer\u001b[0m\u001b[0;34m,\u001b[0m\u001b[0mprofit0\u001b[0m\u001b[0;34m)\u001b[0m \u001b[0;31m#each player puts 1 into the pot automatically\u001b[0m\u001b[0;34m\u001b[0m\u001b[0;34m\u001b[0m\u001b[0m\n\u001b[1;32m    156\u001b[0m \u001b[0;34m\u001b[0m\u001b[0m\n\u001b[0;32m--> 157\u001b[0;31m \u001b[0mmain\u001b[0m\u001b[0;34m(\u001b[0m\u001b[0;36m0\u001b[0m\u001b[0;34m,\u001b[0m\u001b[0;36m0\u001b[0m\u001b[0;34m)\u001b[0m \u001b[0;31m#define dealer as player 0 for the first game\u001b[0m\u001b[0;34m\u001b[0m\u001b[0;34m\u001b[0m\u001b[0m\n\u001b[0m\u001b[1;32m    158\u001b[0m \u001b[0;31m#(dealer is the term for the player who \"deals\" and acts first preflop and acts last in other rounds)\u001b[0m\u001b[0;34m\u001b[0m\u001b[0;34m\u001b[0m\u001b[0;34m\u001b[0m\u001b[0m\n",
      "\u001b[0;32m<ipython-input-1-66867b088604>\u001b[0m in \u001b[0;36mmain\u001b[0;34m(dealer, profit0)\u001b[0m\n\u001b[1;32m    153\u001b[0m     \u001b[0mprint\u001b[0m\u001b[0;34m(\u001b[0m\u001b[0;34m'Player 1 card: {}'\u001b[0m\u001b[0;34m.\u001b[0m\u001b[0mformat\u001b[0m\u001b[0;34m(\u001b[0m\u001b[0mp1card\u001b[0m\u001b[0;34m)\u001b[0m\u001b[0;34m)\u001b[0m\u001b[0;34m\u001b[0m\u001b[0;34m\u001b[0m\u001b[0m\n\u001b[1;32m    154\u001b[0m     \u001b[0mprint\u001b[0m \u001b[0;34m(\u001b[0m\u001b[0;34m''\u001b[0m\u001b[0;34m)\u001b[0m\u001b[0;34m\u001b[0m\u001b[0;34m\u001b[0m\u001b[0m\n\u001b[0;32m--> 155\u001b[0;31m     \u001b[0mplaypreflop\u001b[0m\u001b[0;34m(\u001b[0m\u001b[0mp0card\u001b[0m\u001b[0;34m,\u001b[0m\u001b[0mp1card\u001b[0m\u001b[0;34m,\u001b[0m\u001b[0mflopcard\u001b[0m\u001b[0;34m,\u001b[0m\u001b[0;34m''\u001b[0m\u001b[0;34m,\u001b[0m\u001b[0;34m''\u001b[0m\u001b[0;34m,\u001b[0m\u001b[0mdealer\u001b[0m\u001b[0;34m,\u001b[0m\u001b[0mprofit0\u001b[0m\u001b[0;34m)\u001b[0m \u001b[0;31m#each player puts 1 into the pot automatically\u001b[0m\u001b[0;34m\u001b[0m\u001b[0;34m\u001b[0m\u001b[0m\n\u001b[0m\u001b[1;32m    156\u001b[0m \u001b[0;34m\u001b[0m\u001b[0m\n\u001b[1;32m    157\u001b[0m \u001b[0mmain\u001b[0m\u001b[0;34m(\u001b[0m\u001b[0;36m0\u001b[0m\u001b[0;34m,\u001b[0m\u001b[0;36m0\u001b[0m\u001b[0;34m)\u001b[0m \u001b[0;31m#define dealer as player 0 for the first game\u001b[0m\u001b[0;34m\u001b[0m\u001b[0;34m\u001b[0m\u001b[0m\n",
      "\u001b[0;32m<ipython-input-1-66867b088604>\u001b[0m in \u001b[0;36mplaypreflop\u001b[0;34m(p0card, p1card, flopcard, r1history, r2history, dealer, profit0)\u001b[0m\n\u001b[1;32m     78\u001b[0m     \u001b[0mprint\u001b[0m\u001b[0;34m(\u001b[0m\u001b[0;34m'Player {} turn to act'\u001b[0m\u001b[0;34m.\u001b[0m\u001b[0mformat\u001b[0m\u001b[0;34m(\u001b[0m\u001b[0mactingplayer\u001b[0m\u001b[0;34m)\u001b[0m\u001b[0;34m)\u001b[0m\u001b[0;34m\u001b[0m\u001b[0;34m\u001b[0m\u001b[0m\n\u001b[1;32m     79\u001b[0m     \u001b[0mbet\u001b[0m \u001b[0;34m=\u001b[0m \u001b[0mvalidbets\u001b[0m\u001b[0;34m(\u001b[0m\u001b[0mr1history\u001b[0m\u001b[0;34m,\u001b[0m\u001b[0mbetsize\u001b[0m\u001b[0;34m)\u001b[0m \u001b[0;31m#checks which bet sizes are possible then asks for user input\u001b[0m\u001b[0;34m\u001b[0m\u001b[0;34m\u001b[0m\u001b[0m\n\u001b[0;32m---> 80\u001b[0;31m     \u001b[0mplaypreflop\u001b[0m\u001b[0;34m(\u001b[0m\u001b[0mp0card\u001b[0m\u001b[0;34m,\u001b[0m\u001b[0mp1card\u001b[0m\u001b[0;34m,\u001b[0m\u001b[0mflopcard\u001b[0m\u001b[0;34m,\u001b[0m\u001b[0mr1history\u001b[0m\u001b[0;34m+\u001b[0m\u001b[0mbet\u001b[0m\u001b[0;34m,\u001b[0m\u001b[0mr2history\u001b[0m\u001b[0;34m,\u001b[0m\u001b[0mdealer\u001b[0m\u001b[0;34m,\u001b[0m\u001b[0mprofit0\u001b[0m\u001b[0;34m)\u001b[0m \u001b[0;31m#next preflop action\u001b[0m\u001b[0;34m\u001b[0m\u001b[0;34m\u001b[0m\u001b[0m\n\u001b[0m\u001b[1;32m     81\u001b[0m \u001b[0;34m\u001b[0m\u001b[0m\n\u001b[1;32m     82\u001b[0m \u001b[0;34m\u001b[0m\u001b[0m\n",
      "\u001b[0;32m<ipython-input-1-66867b088604>\u001b[0m in \u001b[0;36mplaypreflop\u001b[0;34m(p0card, p1card, flopcard, r1history, r2history, dealer, profit0)\u001b[0m\n\u001b[1;32m     78\u001b[0m     \u001b[0mprint\u001b[0m\u001b[0;34m(\u001b[0m\u001b[0;34m'Player {} turn to act'\u001b[0m\u001b[0;34m.\u001b[0m\u001b[0mformat\u001b[0m\u001b[0;34m(\u001b[0m\u001b[0mactingplayer\u001b[0m\u001b[0;34m)\u001b[0m\u001b[0;34m)\u001b[0m\u001b[0;34m\u001b[0m\u001b[0;34m\u001b[0m\u001b[0m\n\u001b[1;32m     79\u001b[0m     \u001b[0mbet\u001b[0m \u001b[0;34m=\u001b[0m \u001b[0mvalidbets\u001b[0m\u001b[0;34m(\u001b[0m\u001b[0mr1history\u001b[0m\u001b[0;34m,\u001b[0m\u001b[0mbetsize\u001b[0m\u001b[0;34m)\u001b[0m \u001b[0;31m#checks which bet sizes are possible then asks for user input\u001b[0m\u001b[0;34m\u001b[0m\u001b[0;34m\u001b[0m\u001b[0m\n\u001b[0;32m---> 80\u001b[0;31m     \u001b[0mplaypreflop\u001b[0m\u001b[0;34m(\u001b[0m\u001b[0mp0card\u001b[0m\u001b[0;34m,\u001b[0m\u001b[0mp1card\u001b[0m\u001b[0;34m,\u001b[0m\u001b[0mflopcard\u001b[0m\u001b[0;34m,\u001b[0m\u001b[0mr1history\u001b[0m\u001b[0;34m+\u001b[0m\u001b[0mbet\u001b[0m\u001b[0;34m,\u001b[0m\u001b[0mr2history\u001b[0m\u001b[0;34m,\u001b[0m\u001b[0mdealer\u001b[0m\u001b[0;34m,\u001b[0m\u001b[0mprofit0\u001b[0m\u001b[0;34m)\u001b[0m \u001b[0;31m#next preflop action\u001b[0m\u001b[0;34m\u001b[0m\u001b[0;34m\u001b[0m\u001b[0m\n\u001b[0m\u001b[1;32m     81\u001b[0m \u001b[0;34m\u001b[0m\u001b[0m\n\u001b[1;32m     82\u001b[0m \u001b[0;34m\u001b[0m\u001b[0m\n",
      "\u001b[0;32m<ipython-input-1-66867b088604>\u001b[0m in \u001b[0;36mplaypreflop\u001b[0;34m(p0card, p1card, flopcard, r1history, r2history, dealer, profit0)\u001b[0m\n\u001b[1;32m     72\u001b[0m     \u001b[0;32mif\u001b[0m \u001b[0mr1history\u001b[0m\u001b[0;34m[\u001b[0m\u001b[0;34m-\u001b[0m\u001b[0;36m2\u001b[0m\u001b[0;34m:\u001b[0m\u001b[0;34m]\u001b[0m \u001b[0;34m==\u001b[0m \u001b[0;34m'kk'\u001b[0m \u001b[0;32mor\u001b[0m \u001b[0mr1history\u001b[0m\u001b[0;34m[\u001b[0m\u001b[0;34m-\u001b[0m\u001b[0;36m1\u001b[0m\u001b[0;34m:\u001b[0m\u001b[0;34m]\u001b[0m \u001b[0;34m==\u001b[0m \u001b[0;34m'c'\u001b[0m\u001b[0;34m:\u001b[0m\u001b[0;34m\u001b[0m\u001b[0;34m\u001b[0m\u001b[0m\n\u001b[1;32m     73\u001b[0m         \u001b[0mprint\u001b[0m\u001b[0;34m(\u001b[0m\u001b[0;34m'\\nDealing flop card: {}'\u001b[0m\u001b[0;34m.\u001b[0m\u001b[0mformat\u001b[0m\u001b[0;34m(\u001b[0m\u001b[0mflopcard\u001b[0m\u001b[0;34m)\u001b[0m\u001b[0;34m)\u001b[0m \u001b[0;31m#deal flop card for 2nd betting round\u001b[0m\u001b[0;34m\u001b[0m\u001b[0;34m\u001b[0m\u001b[0m\n\u001b[0;32m---> 74\u001b[0;31m         \u001b[0mplayflop\u001b[0m\u001b[0;34m(\u001b[0m\u001b[0mp0card\u001b[0m\u001b[0;34m,\u001b[0m\u001b[0mp1card\u001b[0m\u001b[0;34m,\u001b[0m\u001b[0mflopcard\u001b[0m\u001b[0;34m,\u001b[0m\u001b[0mr1history\u001b[0m\u001b[0;34m,\u001b[0m\u001b[0mr2history\u001b[0m\u001b[0;34m,\u001b[0m\u001b[0mdealer\u001b[0m\u001b[0;34m,\u001b[0m\u001b[0mprofit0\u001b[0m\u001b[0;34m)\u001b[0m \u001b[0;31m#get flop action\u001b[0m\u001b[0;34m\u001b[0m\u001b[0;34m\u001b[0m\u001b[0m\n\u001b[0m\u001b[1;32m     75\u001b[0m \u001b[0;34m\u001b[0m\u001b[0m\n\u001b[1;32m     76\u001b[0m     \u001b[0;31m#game/round not over, continue with next action in this round\u001b[0m\u001b[0;34m\u001b[0m\u001b[0;34m\u001b[0m\u001b[0;34m\u001b[0m\u001b[0m\n",
      "\u001b[0;32m<ipython-input-1-66867b088604>\u001b[0m in \u001b[0;36mplayflop\u001b[0;34m(p0card, p1card, flopcard, r1history, r2history, dealer, profit0)\u001b[0m\n\u001b[1;32m    130\u001b[0m     \u001b[0mprint\u001b[0m\u001b[0;34m(\u001b[0m\u001b[0;34m'Player {} turn to act'\u001b[0m\u001b[0;34m.\u001b[0m\u001b[0mformat\u001b[0m\u001b[0;34m(\u001b[0m\u001b[0mactingplayer\u001b[0m\u001b[0;34m)\u001b[0m\u001b[0;34m)\u001b[0m\u001b[0;34m\u001b[0m\u001b[0;34m\u001b[0m\u001b[0m\n\u001b[1;32m    131\u001b[0m     \u001b[0mbet\u001b[0m \u001b[0;34m=\u001b[0m \u001b[0mvalidbets\u001b[0m\u001b[0;34m(\u001b[0m\u001b[0mr2history\u001b[0m\u001b[0;34m,\u001b[0m\u001b[0mbetsize\u001b[0m\u001b[0;34m)\u001b[0m \u001b[0;31m#checks which bet sizes are possible then asks for user input\u001b[0m\u001b[0;34m\u001b[0m\u001b[0;34m\u001b[0m\u001b[0m\n\u001b[0;32m--> 132\u001b[0;31m     \u001b[0mplayflop\u001b[0m\u001b[0;34m(\u001b[0m\u001b[0mp0card\u001b[0m\u001b[0;34m,\u001b[0m\u001b[0mp1card\u001b[0m\u001b[0;34m,\u001b[0m\u001b[0mflopcard\u001b[0m\u001b[0;34m,\u001b[0m\u001b[0mr1history\u001b[0m\u001b[0;34m,\u001b[0m\u001b[0mr2history\u001b[0m\u001b[0;34m+\u001b[0m\u001b[0mbet\u001b[0m\u001b[0;34m,\u001b[0m\u001b[0mdealer\u001b[0m\u001b[0;34m,\u001b[0m\u001b[0mprofit0\u001b[0m\u001b[0;34m)\u001b[0m \u001b[0;31m#next flop action\u001b[0m\u001b[0;34m\u001b[0m\u001b[0;34m\u001b[0m\u001b[0m\n\u001b[0m\u001b[1;32m    133\u001b[0m \u001b[0;34m\u001b[0m\u001b[0m\n\u001b[1;32m    134\u001b[0m \u001b[0;34m\u001b[0m\u001b[0m\n",
      "\u001b[0;32m<ipython-input-1-66867b088604>\u001b[0m in \u001b[0;36mplayflop\u001b[0;34m(p0card, p1card, flopcard, r1history, r2history, dealer, profit0)\u001b[0m\n\u001b[1;32m    130\u001b[0m     \u001b[0mprint\u001b[0m\u001b[0;34m(\u001b[0m\u001b[0;34m'Player {} turn to act'\u001b[0m\u001b[0;34m.\u001b[0m\u001b[0mformat\u001b[0m\u001b[0;34m(\u001b[0m\u001b[0mactingplayer\u001b[0m\u001b[0;34m)\u001b[0m\u001b[0;34m)\u001b[0m\u001b[0;34m\u001b[0m\u001b[0;34m\u001b[0m\u001b[0m\n\u001b[1;32m    131\u001b[0m     \u001b[0mbet\u001b[0m \u001b[0;34m=\u001b[0m \u001b[0mvalidbets\u001b[0m\u001b[0;34m(\u001b[0m\u001b[0mr2history\u001b[0m\u001b[0;34m,\u001b[0m\u001b[0mbetsize\u001b[0m\u001b[0;34m)\u001b[0m \u001b[0;31m#checks which bet sizes are possible then asks for user input\u001b[0m\u001b[0;34m\u001b[0m\u001b[0;34m\u001b[0m\u001b[0m\n\u001b[0;32m--> 132\u001b[0;31m     \u001b[0mplayflop\u001b[0m\u001b[0;34m(\u001b[0m\u001b[0mp0card\u001b[0m\u001b[0;34m,\u001b[0m\u001b[0mp1card\u001b[0m\u001b[0;34m,\u001b[0m\u001b[0mflopcard\u001b[0m\u001b[0;34m,\u001b[0m\u001b[0mr1history\u001b[0m\u001b[0;34m,\u001b[0m\u001b[0mr2history\u001b[0m\u001b[0;34m+\u001b[0m\u001b[0mbet\u001b[0m\u001b[0;34m,\u001b[0m\u001b[0mdealer\u001b[0m\u001b[0;34m,\u001b[0m\u001b[0mprofit0\u001b[0m\u001b[0;34m)\u001b[0m \u001b[0;31m#next flop action\u001b[0m\u001b[0;34m\u001b[0m\u001b[0;34m\u001b[0m\u001b[0m\n\u001b[0m\u001b[1;32m    133\u001b[0m \u001b[0;34m\u001b[0m\u001b[0m\n\u001b[1;32m    134\u001b[0m \u001b[0;34m\u001b[0m\u001b[0m\n",
      "\u001b[0;32m<ipython-input-1-66867b088604>\u001b[0m in \u001b[0;36mplayflop\u001b[0;34m(p0card, p1card, flopcard, r1history, r2history, dealer, profit0)\u001b[0m\n\u001b[1;32m    115\u001b[0m             \u001b[0mwinninghand\u001b[0m \u001b[0;34m=\u001b[0m \u001b[0;34m[\u001b[0m\u001b[0mp0card\u001b[0m\u001b[0;34m,\u001b[0m \u001b[0mflopcard\u001b[0m\u001b[0;34m]\u001b[0m\u001b[0;34m\u001b[0m\u001b[0;34m\u001b[0m\u001b[0m\n\u001b[1;32m    116\u001b[0m             \u001b[0mprint\u001b[0m\u001b[0;34m(\u001b[0m\u001b[0;34m'Tie game! Pot size {} and both players had {}\\n'\u001b[0m\u001b[0;34m.\u001b[0m\u001b[0mformat\u001b[0m\u001b[0;34m(\u001b[0m\u001b[0mpot\u001b[0m\u001b[0;34m,\u001b[0m\u001b[0mwinninghand\u001b[0m\u001b[0;34m)\u001b[0m\u001b[0;34m)\u001b[0m\u001b[0;34m\u001b[0m\u001b[0;34m\u001b[0m\u001b[0m\n\u001b[0;32m--> 117\u001b[0;31m             \u001b[0mmain\u001b[0m\u001b[0;34m(\u001b[0m\u001b[0;36m1\u001b[0m\u001b[0;34m-\u001b[0m\u001b[0mdealer\u001b[0m\u001b[0;34m,\u001b[0m\u001b[0mprofit0\u001b[0m\u001b[0;34m)\u001b[0m\u001b[0;34m\u001b[0m\u001b[0;34m\u001b[0m\u001b[0m\n\u001b[0m\u001b[1;32m    118\u001b[0m         \u001b[0mprofit\u001b[0m \u001b[0;34m=\u001b[0m \u001b[0mpot\u001b[0m\u001b[0;34m/\u001b[0m\u001b[0;36m2\u001b[0m \u001b[0;31m#profit is the opponent's half of the pot\u001b[0m\u001b[0;34m\u001b[0m\u001b[0;34m\u001b[0m\u001b[0m\n\u001b[1;32m    119\u001b[0m         \u001b[0;32mif\u001b[0m \u001b[0mwinner\u001b[0m \u001b[0;34m==\u001b[0m \u001b[0;36m0\u001b[0m\u001b[0;34m:\u001b[0m \u001b[0;31m#keep track of profit from player 0 perspective (player 1 is just opposite)\u001b[0m\u001b[0;34m\u001b[0m\u001b[0;34m\u001b[0m\u001b[0m\n",
      "\u001b[0;32m<ipython-input-1-66867b088604>\u001b[0m in \u001b[0;36mmain\u001b[0;34m(dealer, profit0)\u001b[0m\n\u001b[1;32m    153\u001b[0m     \u001b[0mprint\u001b[0m\u001b[0;34m(\u001b[0m\u001b[0;34m'Player 1 card: {}'\u001b[0m\u001b[0;34m.\u001b[0m\u001b[0mformat\u001b[0m\u001b[0;34m(\u001b[0m\u001b[0mp1card\u001b[0m\u001b[0;34m)\u001b[0m\u001b[0;34m)\u001b[0m\u001b[0;34m\u001b[0m\u001b[0;34m\u001b[0m\u001b[0m\n\u001b[1;32m    154\u001b[0m     \u001b[0mprint\u001b[0m \u001b[0;34m(\u001b[0m\u001b[0;34m''\u001b[0m\u001b[0;34m)\u001b[0m\u001b[0;34m\u001b[0m\u001b[0;34m\u001b[0m\u001b[0m\n\u001b[0;32m--> 155\u001b[0;31m     \u001b[0mplaypreflop\u001b[0m\u001b[0;34m(\u001b[0m\u001b[0mp0card\u001b[0m\u001b[0;34m,\u001b[0m\u001b[0mp1card\u001b[0m\u001b[0;34m,\u001b[0m\u001b[0mflopcard\u001b[0m\u001b[0;34m,\u001b[0m\u001b[0;34m''\u001b[0m\u001b[0;34m,\u001b[0m\u001b[0;34m''\u001b[0m\u001b[0;34m,\u001b[0m\u001b[0mdealer\u001b[0m\u001b[0;34m,\u001b[0m\u001b[0mprofit0\u001b[0m\u001b[0;34m)\u001b[0m \u001b[0;31m#each player puts 1 into the pot automatically\u001b[0m\u001b[0;34m\u001b[0m\u001b[0;34m\u001b[0m\u001b[0m\n\u001b[0m\u001b[1;32m    156\u001b[0m \u001b[0;34m\u001b[0m\u001b[0m\n\u001b[1;32m    157\u001b[0m \u001b[0mmain\u001b[0m\u001b[0;34m(\u001b[0m\u001b[0;36m0\u001b[0m\u001b[0;34m,\u001b[0m\u001b[0;36m0\u001b[0m\u001b[0;34m)\u001b[0m \u001b[0;31m#define dealer as player 0 for the first game\u001b[0m\u001b[0;34m\u001b[0m\u001b[0;34m\u001b[0m\u001b[0m\n",
      "\u001b[0;32m<ipython-input-1-66867b088604>\u001b[0m in \u001b[0;36mplaypreflop\u001b[0;34m(p0card, p1card, flopcard, r1history, r2history, dealer, profit0)\u001b[0m\n\u001b[1;32m     78\u001b[0m     \u001b[0mprint\u001b[0m\u001b[0;34m(\u001b[0m\u001b[0;34m'Player {} turn to act'\u001b[0m\u001b[0;34m.\u001b[0m\u001b[0mformat\u001b[0m\u001b[0;34m(\u001b[0m\u001b[0mactingplayer\u001b[0m\u001b[0;34m)\u001b[0m\u001b[0;34m)\u001b[0m\u001b[0;34m\u001b[0m\u001b[0;34m\u001b[0m\u001b[0m\n\u001b[1;32m     79\u001b[0m     \u001b[0mbet\u001b[0m \u001b[0;34m=\u001b[0m \u001b[0mvalidbets\u001b[0m\u001b[0;34m(\u001b[0m\u001b[0mr1history\u001b[0m\u001b[0;34m,\u001b[0m\u001b[0mbetsize\u001b[0m\u001b[0;34m)\u001b[0m \u001b[0;31m#checks which bet sizes are possible then asks for user input\u001b[0m\u001b[0;34m\u001b[0m\u001b[0;34m\u001b[0m\u001b[0m\n\u001b[0;32m---> 80\u001b[0;31m     \u001b[0mplaypreflop\u001b[0m\u001b[0;34m(\u001b[0m\u001b[0mp0card\u001b[0m\u001b[0;34m,\u001b[0m\u001b[0mp1card\u001b[0m\u001b[0;34m,\u001b[0m\u001b[0mflopcard\u001b[0m\u001b[0;34m,\u001b[0m\u001b[0mr1history\u001b[0m\u001b[0;34m+\u001b[0m\u001b[0mbet\u001b[0m\u001b[0;34m,\u001b[0m\u001b[0mr2history\u001b[0m\u001b[0;34m,\u001b[0m\u001b[0mdealer\u001b[0m\u001b[0;34m,\u001b[0m\u001b[0mprofit0\u001b[0m\u001b[0;34m)\u001b[0m \u001b[0;31m#next preflop action\u001b[0m\u001b[0;34m\u001b[0m\u001b[0;34m\u001b[0m\u001b[0m\n\u001b[0m\u001b[1;32m     81\u001b[0m \u001b[0;34m\u001b[0m\u001b[0m\n\u001b[1;32m     82\u001b[0m \u001b[0;34m\u001b[0m\u001b[0m\n",
      "\u001b[0;32m<ipython-input-1-66867b088604>\u001b[0m in \u001b[0;36mplaypreflop\u001b[0;34m(p0card, p1card, flopcard, r1history, r2history, dealer, profit0)\u001b[0m\n\u001b[1;32m     78\u001b[0m     \u001b[0mprint\u001b[0m\u001b[0;34m(\u001b[0m\u001b[0;34m'Player {} turn to act'\u001b[0m\u001b[0;34m.\u001b[0m\u001b[0mformat\u001b[0m\u001b[0;34m(\u001b[0m\u001b[0mactingplayer\u001b[0m\u001b[0;34m)\u001b[0m\u001b[0;34m)\u001b[0m\u001b[0;34m\u001b[0m\u001b[0;34m\u001b[0m\u001b[0m\n\u001b[1;32m     79\u001b[0m     \u001b[0mbet\u001b[0m \u001b[0;34m=\u001b[0m \u001b[0mvalidbets\u001b[0m\u001b[0;34m(\u001b[0m\u001b[0mr1history\u001b[0m\u001b[0;34m,\u001b[0m\u001b[0mbetsize\u001b[0m\u001b[0;34m)\u001b[0m \u001b[0;31m#checks which bet sizes are possible then asks for user input\u001b[0m\u001b[0;34m\u001b[0m\u001b[0;34m\u001b[0m\u001b[0m\n\u001b[0;32m---> 80\u001b[0;31m     \u001b[0mplaypreflop\u001b[0m\u001b[0;34m(\u001b[0m\u001b[0mp0card\u001b[0m\u001b[0;34m,\u001b[0m\u001b[0mp1card\u001b[0m\u001b[0;34m,\u001b[0m\u001b[0mflopcard\u001b[0m\u001b[0;34m,\u001b[0m\u001b[0mr1history\u001b[0m\u001b[0;34m+\u001b[0m\u001b[0mbet\u001b[0m\u001b[0;34m,\u001b[0m\u001b[0mr2history\u001b[0m\u001b[0;34m,\u001b[0m\u001b[0mdealer\u001b[0m\u001b[0;34m,\u001b[0m\u001b[0mprofit0\u001b[0m\u001b[0;34m)\u001b[0m \u001b[0;31m#next preflop action\u001b[0m\u001b[0;34m\u001b[0m\u001b[0;34m\u001b[0m\u001b[0m\n\u001b[0m\u001b[1;32m     81\u001b[0m \u001b[0;34m\u001b[0m\u001b[0m\n\u001b[1;32m     82\u001b[0m \u001b[0;34m\u001b[0m\u001b[0m\n",
      "\u001b[0;32m<ipython-input-1-66867b088604>\u001b[0m in \u001b[0;36mplaypreflop\u001b[0;34m(p0card, p1card, flopcard, r1history, r2history, dealer, profit0)\u001b[0m\n\u001b[1;32m     72\u001b[0m     \u001b[0;32mif\u001b[0m \u001b[0mr1history\u001b[0m\u001b[0;34m[\u001b[0m\u001b[0;34m-\u001b[0m\u001b[0;36m2\u001b[0m\u001b[0;34m:\u001b[0m\u001b[0;34m]\u001b[0m \u001b[0;34m==\u001b[0m \u001b[0;34m'kk'\u001b[0m \u001b[0;32mor\u001b[0m \u001b[0mr1history\u001b[0m\u001b[0;34m[\u001b[0m\u001b[0;34m-\u001b[0m\u001b[0;36m1\u001b[0m\u001b[0;34m:\u001b[0m\u001b[0;34m]\u001b[0m \u001b[0;34m==\u001b[0m \u001b[0;34m'c'\u001b[0m\u001b[0;34m:\u001b[0m\u001b[0;34m\u001b[0m\u001b[0;34m\u001b[0m\u001b[0m\n\u001b[1;32m     73\u001b[0m         \u001b[0mprint\u001b[0m\u001b[0;34m(\u001b[0m\u001b[0;34m'\\nDealing flop card: {}'\u001b[0m\u001b[0;34m.\u001b[0m\u001b[0mformat\u001b[0m\u001b[0;34m(\u001b[0m\u001b[0mflopcard\u001b[0m\u001b[0;34m)\u001b[0m\u001b[0;34m)\u001b[0m \u001b[0;31m#deal flop card for 2nd betting round\u001b[0m\u001b[0;34m\u001b[0m\u001b[0;34m\u001b[0m\u001b[0m\n\u001b[0;32m---> 74\u001b[0;31m         \u001b[0mplayflop\u001b[0m\u001b[0;34m(\u001b[0m\u001b[0mp0card\u001b[0m\u001b[0;34m,\u001b[0m\u001b[0mp1card\u001b[0m\u001b[0;34m,\u001b[0m\u001b[0mflopcard\u001b[0m\u001b[0;34m,\u001b[0m\u001b[0mr1history\u001b[0m\u001b[0;34m,\u001b[0m\u001b[0mr2history\u001b[0m\u001b[0;34m,\u001b[0m\u001b[0mdealer\u001b[0m\u001b[0;34m,\u001b[0m\u001b[0mprofit0\u001b[0m\u001b[0;34m)\u001b[0m \u001b[0;31m#get flop action\u001b[0m\u001b[0;34m\u001b[0m\u001b[0;34m\u001b[0m\u001b[0m\n\u001b[0m\u001b[1;32m     75\u001b[0m \u001b[0;34m\u001b[0m\u001b[0m\n\u001b[1;32m     76\u001b[0m     \u001b[0;31m#game/round not over, continue with next action in this round\u001b[0m\u001b[0;34m\u001b[0m\u001b[0;34m\u001b[0m\u001b[0;34m\u001b[0m\u001b[0m\n",
      "\u001b[0;32m<ipython-input-1-66867b088604>\u001b[0m in \u001b[0;36mplayflop\u001b[0;34m(p0card, p1card, flopcard, r1history, r2history, dealer, profit0)\u001b[0m\n\u001b[1;32m    129\u001b[0m     \u001b[0mprint\u001b[0m\u001b[0;34m(\u001b[0m\u001b[0;34m'\\nPot size: {}'\u001b[0m\u001b[0;34m.\u001b[0m\u001b[0mformat\u001b[0m\u001b[0;34m(\u001b[0m\u001b[0mpot\u001b[0m\u001b[0;34m)\u001b[0m\u001b[0;34m)\u001b[0m\u001b[0;34m\u001b[0m\u001b[0;34m\u001b[0m\u001b[0m\n\u001b[1;32m    130\u001b[0m     \u001b[0mprint\u001b[0m\u001b[0;34m(\u001b[0m\u001b[0;34m'Player {} turn to act'\u001b[0m\u001b[0;34m.\u001b[0m\u001b[0mformat\u001b[0m\u001b[0;34m(\u001b[0m\u001b[0mactingplayer\u001b[0m\u001b[0;34m)\u001b[0m\u001b[0;34m)\u001b[0m\u001b[0;34m\u001b[0m\u001b[0;34m\u001b[0m\u001b[0m\n\u001b[0;32m--> 131\u001b[0;31m     \u001b[0mbet\u001b[0m \u001b[0;34m=\u001b[0m \u001b[0mvalidbets\u001b[0m\u001b[0;34m(\u001b[0m\u001b[0mr2history\u001b[0m\u001b[0;34m,\u001b[0m\u001b[0mbetsize\u001b[0m\u001b[0;34m)\u001b[0m \u001b[0;31m#checks which bet sizes are possible then asks for user input\u001b[0m\u001b[0;34m\u001b[0m\u001b[0;34m\u001b[0m\u001b[0m\n\u001b[0m\u001b[1;32m    132\u001b[0m     \u001b[0mplayflop\u001b[0m\u001b[0;34m(\u001b[0m\u001b[0mp0card\u001b[0m\u001b[0;34m,\u001b[0m\u001b[0mp1card\u001b[0m\u001b[0;34m,\u001b[0m\u001b[0mflopcard\u001b[0m\u001b[0;34m,\u001b[0m\u001b[0mr1history\u001b[0m\u001b[0;34m,\u001b[0m\u001b[0mr2history\u001b[0m\u001b[0;34m+\u001b[0m\u001b[0mbet\u001b[0m\u001b[0;34m,\u001b[0m\u001b[0mdealer\u001b[0m\u001b[0;34m,\u001b[0m\u001b[0mprofit0\u001b[0m\u001b[0;34m)\u001b[0m \u001b[0;31m#next flop action\u001b[0m\u001b[0;34m\u001b[0m\u001b[0;34m\u001b[0m\u001b[0m\n\u001b[1;32m    133\u001b[0m \u001b[0;34m\u001b[0m\u001b[0m\n",
      "\u001b[0;32m<ipython-input-1-66867b088604>\u001b[0m in \u001b[0;36mvalidbets\u001b[0;34m(history, betsize)\u001b[0m\n\u001b[1;32m     38\u001b[0m     \u001b[0;31m#note that fold and check are never both options at the same time\u001b[0m\u001b[0;34m\u001b[0m\u001b[0;34m\u001b[0m\u001b[0;34m\u001b[0m\u001b[0m\n\u001b[1;32m     39\u001b[0m     \u001b[0;31m#note that bet and raise are never both options at the same time\u001b[0m\u001b[0;34m\u001b[0m\u001b[0;34m\u001b[0m\u001b[0;34m\u001b[0m\u001b[0m\n\u001b[0;32m---> 40\u001b[0;31m     \u001b[0;32mreturn\u001b[0m \u001b[0mmakebet\u001b[0m\u001b[0;34m(\u001b[0m\u001b[0mbetoptions\u001b[0m\u001b[0;34m)\u001b[0m\u001b[0;34m\u001b[0m\u001b[0;34m\u001b[0m\u001b[0m\n\u001b[0m\u001b[1;32m     41\u001b[0m \u001b[0;34m\u001b[0m\u001b[0m\n\u001b[1;32m     42\u001b[0m \u001b[0;32mdef\u001b[0m \u001b[0mmakebet\u001b[0m\u001b[0;34m(\u001b[0m\u001b[0mbetoptions\u001b[0m\u001b[0;34m)\u001b[0m\u001b[0;34m:\u001b[0m\u001b[0;34m\u001b[0m\u001b[0;34m\u001b[0m\u001b[0m\n",
      "\u001b[0;32m<ipython-input-1-66867b088604>\u001b[0m in \u001b[0;36mmakebet\u001b[0;34m(betoptions)\u001b[0m\n\u001b[1;32m     41\u001b[0m \u001b[0;34m\u001b[0m\u001b[0m\n\u001b[1;32m     42\u001b[0m \u001b[0;32mdef\u001b[0m \u001b[0mmakebet\u001b[0m\u001b[0;34m(\u001b[0m\u001b[0mbetoptions\u001b[0m\u001b[0;34m)\u001b[0m\u001b[0;34m:\u001b[0m\u001b[0;34m\u001b[0m\u001b[0;34m\u001b[0m\u001b[0m\n\u001b[0;32m---> 43\u001b[0;31m     \u001b[0mbetinput\u001b[0m \u001b[0;34m=\u001b[0m \u001b[0minput\u001b[0m\u001b[0;34m(\u001b[0m\u001b[0;34m)\u001b[0m\u001b[0;34m\u001b[0m\u001b[0;34m\u001b[0m\u001b[0m\n\u001b[0m\u001b[1;32m     44\u001b[0m     \u001b[0;32mif\u001b[0m \u001b[0mbetinput\u001b[0m \u001b[0;32min\u001b[0m \u001b[0mbetoptions\u001b[0m\u001b[0;34m:\u001b[0m\u001b[0;34m\u001b[0m\u001b[0;34m\u001b[0m\u001b[0m\n\u001b[1;32m     45\u001b[0m         \u001b[0;32mreturn\u001b[0m \u001b[0mbetinput\u001b[0m\u001b[0;34m\u001b[0m\u001b[0;34m\u001b[0m\u001b[0m\n",
      "\u001b[0;32m/anaconda3/lib/python3.7/site-packages/ipykernel/kernelbase.py\u001b[0m in \u001b[0;36mraw_input\u001b[0;34m(self, prompt)\u001b[0m\n\u001b[1;32m    851\u001b[0m             \u001b[0mself\u001b[0m\u001b[0;34m.\u001b[0m\u001b[0m_parent_ident\u001b[0m\u001b[0;34m,\u001b[0m\u001b[0;34m\u001b[0m\u001b[0;34m\u001b[0m\u001b[0m\n\u001b[1;32m    852\u001b[0m             \u001b[0mself\u001b[0m\u001b[0;34m.\u001b[0m\u001b[0m_parent_header\u001b[0m\u001b[0;34m,\u001b[0m\u001b[0;34m\u001b[0m\u001b[0;34m\u001b[0m\u001b[0m\n\u001b[0;32m--> 853\u001b[0;31m             \u001b[0mpassword\u001b[0m\u001b[0;34m=\u001b[0m\u001b[0;32mFalse\u001b[0m\u001b[0;34m,\u001b[0m\u001b[0;34m\u001b[0m\u001b[0;34m\u001b[0m\u001b[0m\n\u001b[0m\u001b[1;32m    854\u001b[0m         )\n\u001b[1;32m    855\u001b[0m \u001b[0;34m\u001b[0m\u001b[0m\n",
      "\u001b[0;32m/anaconda3/lib/python3.7/site-packages/ipykernel/kernelbase.py\u001b[0m in \u001b[0;36m_input_request\u001b[0;34m(self, prompt, ident, parent, password)\u001b[0m\n\u001b[1;32m    881\u001b[0m             \u001b[0;32mexcept\u001b[0m \u001b[0mKeyboardInterrupt\u001b[0m\u001b[0;34m:\u001b[0m\u001b[0;34m\u001b[0m\u001b[0;34m\u001b[0m\u001b[0m\n\u001b[1;32m    882\u001b[0m                 \u001b[0;31m# re-raise KeyboardInterrupt, to truncate traceback\u001b[0m\u001b[0;34m\u001b[0m\u001b[0;34m\u001b[0m\u001b[0;34m\u001b[0m\u001b[0m\n\u001b[0;32m--> 883\u001b[0;31m                 \u001b[0;32mraise\u001b[0m \u001b[0mKeyboardInterrupt\u001b[0m\u001b[0;34m\u001b[0m\u001b[0;34m\u001b[0m\u001b[0m\n\u001b[0m\u001b[1;32m    884\u001b[0m             \u001b[0;32melse\u001b[0m\u001b[0;34m:\u001b[0m\u001b[0;34m\u001b[0m\u001b[0;34m\u001b[0m\u001b[0m\n\u001b[1;32m    885\u001b[0m                 \u001b[0;32mbreak\u001b[0m\u001b[0;34m\u001b[0m\u001b[0;34m\u001b[0m\u001b[0m\n",
      "\u001b[0;31mKeyboardInterrupt\u001b[0m: "
     ]
    }
   ],
   "source": [
    "#Leduc hold'em is a simplified poker game in which each player gets 1 card\n",
    "#Each player automatically puts 1 chip into the pot to begin the hand (called an ante)\n",
    "#This is followed by the first round (called preflop) of betting\n",
    "#In this round the bet size is 2 and there is a maximum of 2 bets (i.e. 1 bet and 1 raise)\n",
    "#If neither player folds, the hand goes on to the second round (the flop)\n",
    "#In this round the bet size is 4 and again there is a maximum of 2 bets\n",
    "#If neither player folds, the pot is given to the best hand at showdown\n",
    "#The best hand is either a pair if the community card matches a player's private card\n",
    "#Or simply the highest private card if neither player matches the community card\n",
    "\n",
    "import random\n",
    "\n",
    "def validbets(history,betsize):   \n",
    "    betoptions = ['f','k','c','b','r'] #fold check call bet raise\n",
    "    \n",
    "    #logical checks to see when certain betoptions are not allowed (one invalidation line for each)\n",
    "    #possible previous history in this round is {'', 'k', 'b', 'r'} (empty, check, bet, raise)\n",
    "    #note that fold and call will never be the previous action here in this function because \n",
    "    #these trigger the end of a hand or end of a round\n",
    "    if history[-1:] == 'b' or history[-1:] == 'r': #previous action bet or raise\n",
    "        betoptions[3] = False #Bet invalid -- Can only bet at the start of a round or after a check\n",
    "        betoptions[1] = False #Check invalid -- Can only check at the start of a round or after a check\n",
    "        \n",
    "    if history[-1:] != 'b':\n",
    "        betoptions[4] = False #Raise invalid -- Can only raise after a bet (and only one raise per round)\n",
    "        \n",
    "    if history[-1:] == 'k' or history[-1:] == '': #previous action check or none\n",
    "        betoptions[0] = False #Fold invalid -- Can only fold after a bet or a raise\n",
    "        betoptions[2] = False #Call invalid -- Can only call after a bet or a raise\n",
    "    \n",
    "    #print the bet options that are available\n",
    "    if betoptions[0]: print('FOLD: f')\n",
    "    if betoptions[1]: print('CHECK: k')\n",
    "    if betoptions[2]: print('CALL {}: c'.format(betsize))\n",
    "    if betoptions[3]: print('BET {}: b'.format(betsize))\n",
    "    if betoptions[4]: print('RAISE {}: r'.format(betsize*2))\n",
    "    \n",
    "    #note that fold and check are never both options at the same time\n",
    "    #note that bet and raise are never both options at the same time\n",
    "    return makebet(betoptions)\n",
    "    \n",
    "def makebet(betoptions):\n",
    "    betinput = input()\n",
    "    if betinput in betoptions:\n",
    "        return betinput\n",
    "    else:\n",
    "        print('\\nInvalid bet made, try again')\n",
    "        return makebet(betoptions)\n",
    "\n",
    "def playpreflop(p0card,p1card,flopcard,r1history,r2history,dealer,profit0):\n",
    "    betsize = 2 #bet size is fixed = 2 for this round\n",
    "    print(r1history, r2history)\n",
    "    \n",
    "    #determine which player is acting and the size of the pot\n",
    "    plays = len(r1history) #number of actions in preflop round\n",
    "    actingplayer = (plays+dealer) % 2 #start with dealer and rotate each action\n",
    "    #in 1v1 poker games with multiple rounds, the dealer acts first in the first round and last in other rounds \n",
    "    opponentplayer = 1 - actingplayer #players are 0 and 1\n",
    "    pot = 2.+betsize*r1history.count('b')+betsize*r1history.count('c')+2*betsize*r1history.count('r')\n",
    "\n",
    "    #check to see if the game is over because last player folded\n",
    "    if r1history[-1:] == 'f': \n",
    "        profit = (pot - betsize)/2 #subtract uncalled bet of 2 and divide by 2 (since profit is opponent's half)\n",
    "        if actingplayer == 0: #the other player was the one who folded\n",
    "            profit0 +=profit #keep track of profit from player 0 perspective (player 1 is just opposite)\n",
    "        else:\n",
    "            profit0 -=profit\n",
    "        print('End of game! Player {} wins pot of {} (profits {})\\n'.format(actingplayer,pot,profit))\n",
    "        main(1-dealer,profit0) #next hand, swap dealer\n",
    "    \n",
    "    #check to see if moving to the next round because there were 2 checks in a row or a call\n",
    "    if r1history[-2:] == 'kk' or r1history[-1:] == 'c': \n",
    "        print('\\nDealing flop card: {}'.format(flopcard)) #deal flop card for 2nd betting round\n",
    "        playflop(p0card,p1card,flopcard,r1history,r2history,dealer,profit0) #get flop action\n",
    "    \n",
    "    #game/round not over, continue with next action in this round\n",
    "    print('\\nPot size: {}'.format(pot))       \n",
    "    print('Player {} turn to act'.format(actingplayer))\n",
    "    bet = validbets(r1history,betsize) #checks which bet sizes are possible then asks for user input\n",
    "    playpreflop(p0card,p1card,flopcard,r1history+bet,r2history,dealer,profit0) #next preflop action\n",
    "\n",
    "    \n",
    "def playflop(p0card,p1card,flopcard,r1history,r2history,dealer,profit0):\n",
    "    betsize = 4 #bet size is fixed = 4 for this round\n",
    "    print(r1history, r2history)\n",
    "    \n",
    "    #determine which player is acting and the size of the pot\n",
    "    plays = len(r2history) #number of actions in flop round\n",
    "    opponentplayer = (plays+dealer) % 2 #start with non-dealer and rotate each action\n",
    "    actingplayer = 1 - opponentplayer #players are 0 and 1\n",
    "    pot = 2+(betsize/2)*r1history.count('b')+(betsize/2)*r1history.count('c')+2*(betsize/2)*r1history.count('r') \\\n",
    "        +betsize*r2history.count('b')+betsize*r2history.count('c')+2*betsize*r2history.count('r')\n",
    "\n",
    "    #check to see if the game is over because the last player folded\n",
    "    if r2history[-1:] == 'f': \n",
    "        profit = (pot - betsize)/2 #subtract uncalled bet of 4 and divide by 2 (since profit is opponent's half)\n",
    "        if actingplayer == 0: #the other player was the one who folded\n",
    "            profit0 +=profit #keep track of profit from player 0 perspective (player 1 is just opposite)\n",
    "        else:\n",
    "            profit0 -=profit\n",
    "        print('End of game! Player {} wins pot of {} (profits {})\\n'.format(actingplayer,pot,profit))\n",
    "        main(dealer-1, profit0) #next hand, swap dealer\n",
    "    \n",
    "    #2 checks in a row or a bet/raise and a call >>>> hand is over and goes to showdown  \n",
    "    if r2history[-2:] == 'kk' or r2history[-1:] == 'c': \n",
    "        if p0card == flopcard: #automatically win with a pair if card matches shared card\n",
    "            winner = 0\n",
    "        elif p1card == flopcard: #automatically win with a pair if card matches shared card\n",
    "            winner = 1\n",
    "        elif p1card > p0card: #no one has the pair, compare the cards against each other\n",
    "            winner = 1\n",
    "        elif p0card > p1card: #no one has the pair, compare the cards against each other\n",
    "            winner = 0\n",
    "        else: #tie game\n",
    "            winninghand = [p0card, flopcard]\n",
    "            print('Tie game! Pot size {} and both players had {}\\n'.format(pot,winninghand))\n",
    "            main(1-dealer,profit0)\n",
    "        profit = pot/2 #profit is the opponent's half of the pot\n",
    "        if winner == 0: #keep track of profit from player 0 perspective (player 1 is just opposite)\n",
    "            profit0 +=profit\n",
    "            winninghand = [p0card, flopcard]\n",
    "        else:\n",
    "            profit0 -=profit\n",
    "            winninghand = [p1card, flopcard]\n",
    "        print('End of game! Player {} wins pot of {} with {} (profits {})\\n'.format(winner,pot,winninghand,profit))\n",
    "        main(1-dealer,profit0) #next hand, swap dealer\n",
    "    \n",
    "    #game/round not over, continue with next action in this round \n",
    "    print('\\nPot size: {}'.format(pot))\n",
    "    print('Player {} turn to act'.format(actingplayer))\n",
    "    bet = validbets(r2history,betsize) #checks which bet sizes are possible then asks for user input\n",
    "    playflop(p0card,p1card,flopcard,r1history,r2history+bet,dealer,profit0) #next flop action\n",
    "    \n",
    "\n",
    "def main(dealer, profit0):\n",
    "    #here we shuffle the deck and define a card for\n",
    "    #each player and the shared community card (only\n",
    "    #relevant if the players get to that betting round)\n",
    "    cards = [1,1,2,2,3,3] #define 6 card poker deck (can think of it as 1=Jack, 2=Queen, 3=King)\n",
    "    cards_shuffled = random.shuffle(cards) #shuffle\n",
    "    if dealer == 0: #deal cards according to the standard order\n",
    "        p1card = cards[0]\n",
    "        p0card = cards[1]\n",
    "    else:\n",
    "        p0card = cards[0]\n",
    "        p1card = cards[1]\n",
    "    flopcard = cards[2] #the shared community card is the next card in the deck\n",
    "    print('=================\\nStarting new game\\n=================')\n",
    "    print('Player 0 profit: {}'.format(profit0))\n",
    "    print('Player 1 profit: {}'.format(-profit0))\n",
    "    print ('')\n",
    "    print('Player 0 card: {}'.format(p0card))\n",
    "    print('Player 1 card: {}'.format(p1card))\n",
    "    print ('')\n",
    "    playpreflop(p0card,p1card,flopcard,'','',dealer,profit0) #each player puts 1 into the pot automatically\n",
    "    \n",
    "main(0,0) #define dealer as player 0 for the first game \n",
    "#(dealer is the term for the player who \"deals\" and acts first preflop and acts last in other rounds)"
   ]
  },
  {
   "cell_type": "code",
   "execution_count": 3,
   "metadata": {},
   "outputs": [
    {
     "name": "stdout",
     "output_type": "stream",
     "text": [
      "range(0, 5)\n"
     ]
    }
   ],
   "source": [
    "i = range(5)\n",
    "print(i)"
   ]
  },
  {
   "cell_type": "code",
   "execution_count": 2,
   "metadata": {},
   "outputs": [],
   "source": [
    "i = ['f', 'k', 'c']"
   ]
  },
  {
   "cell_type": "code",
   "execution_count": 3,
   "metadata": {},
   "outputs": [
    {
     "data": {
      "text/plain": [
       "'c'"
      ]
     },
     "execution_count": 3,
     "metadata": {},
     "output_type": "execute_result"
    }
   ],
   "source": [
    "i[2]"
   ]
  },
  {
   "cell_type": "code",
   "execution_count": 11,
   "metadata": {},
   "outputs": [],
   "source": [
    "a = i[0:2]"
   ]
  },
  {
   "cell_type": "code",
   "execution_count": 12,
   "metadata": {},
   "outputs": [],
   "source": [
    "b = ['f', 'k']"
   ]
  },
  {
   "cell_type": "code",
   "execution_count": 13,
   "metadata": {},
   "outputs": [
    {
     "data": {
      "text/plain": [
       "True"
      ]
     },
     "execution_count": 13,
     "metadata": {},
     "output_type": "execute_result"
    }
   ],
   "source": [
    "a == b"
   ]
  },
  {
   "cell_type": "code",
   "execution_count": 14,
   "metadata": {},
   "outputs": [
    {
     "data": {
      "text/plain": [
       "'c'"
      ]
     },
     "execution_count": 14,
     "metadata": {},
     "output_type": "execute_result"
    }
   ],
   "source": [
    "i[-1]"
   ]
  },
  {
   "cell_type": "code",
   "execution_count": 15,
   "metadata": {},
   "outputs": [],
   "source": [
    "bet_options = ['f', 'k', 'c', 'b', 'r']\n",
    "bet_options[2] = False"
   ]
  },
  {
   "cell_type": "code",
   "execution_count": 16,
   "metadata": {},
   "outputs": [
    {
     "data": {
      "text/plain": [
       "['f', 'k', False, 'b', 'r']"
      ]
     },
     "execution_count": 16,
     "metadata": {},
     "output_type": "execute_result"
    }
   ],
   "source": [
    "bet_options"
   ]
  },
  {
   "cell_type": "code",
   "execution_count": 17,
   "metadata": {},
   "outputs": [
    {
     "name": "stdout",
     "output_type": "stream",
     "text": [
      "['f', 'k', False, 'b', 'r']\n"
     ]
    }
   ],
   "source": [
    "def test(stone):\n",
    "    print(stone)\n",
    "    \n",
    "test(bet_options)"
   ]
  },
  {
   "cell_type": "code",
   "execution_count": 21,
   "metadata": {},
   "outputs": [
    {
     "data": {
      "text/plain": [
       "False"
      ]
     },
     "execution_count": 21,
     "metadata": {},
     "output_type": "execute_result"
    }
   ],
   "source": [
    "random.choice(bet_options)"
   ]
  },
  {
   "cell_type": "code",
   "execution_count": null,
   "metadata": {},
   "outputs": [],
   "source": []
  },
  {
   "cell_type": "code",
   "execution_count": null,
   "metadata": {},
   "outputs": [],
   "source": []
  }
 ],
 "metadata": {
  "kernelspec": {
   "display_name": "Python 3",
   "language": "python",
   "name": "python3"
  },
  "language_info": {
   "codemirror_mode": {
    "name": "ipython",
    "version": 3
   },
   "file_extension": ".py",
   "mimetype": "text/x-python",
   "name": "python",
   "nbconvert_exporter": "python",
   "pygments_lexer": "ipython3",
   "version": "3.7.1"
  }
 },
 "nbformat": 4,
 "nbformat_minor": 2
}
